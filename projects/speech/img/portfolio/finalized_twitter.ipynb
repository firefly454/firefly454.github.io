{
 "cells": [
  {
   "cell_type": "code",
   "execution_count": 1,
   "metadata": {
    "collapsed": true
   },
   "outputs": [],
   "source": [
    "from sklearn.feature_extraction.text import TfidfTransformer, TfidfVectorizer, CountVectorizer\n",
    "from sklearn.decomposition import NMF, LatentDirichletAllocation\n",
    "from sklearn.naive_bayes import BernoulliNB\n",
    "from sklearn.linear_model import SGDClassifier, LinearRegression\n",
    "from sklearn.grid_search import GridSearchCV\n",
    "from sklearn.pipeline import Pipeline\n",
    "from sklearn.cross_validation import StratifiedShuffleSplit\n",
    "from sklearn.cross_validation import train_test_split\n",
    "from sklearn.tree import DecisionTreeRegressor\n",
    "from sklearn.ensemble import AdaBoostRegressor\n",
    "\n",
    "from nltk.stem.snowball import SnowballStemmer\n",
    "from nltk import word_tokenize\n",
    "\n",
    "import numpy as np\n",
    "\n",
    "import matplotlib.pyplot as plt\n",
    "import matplotlib\n",
    "matplotlib.style.use('ggplot')\n",
    "from matplotlib.pyplot import plot_date\n",
    "%matplotlib inline\n",
    "from ggplot import *\n",
    "hfont = {'fontname':'Arial'}\n",
    "\n",
    "import pandas as pd\n",
    "\n",
    "import re\n",
    "import pickle\n",
    "\n",
    "import tweepy\n",
    "from tweepy import OAuthHandler\n",
    "import json\n",
    "import collections"
   ]
  },
  {
   "cell_type": "code",
   "execution_count": 217,
   "metadata": {
    "collapsed": true
   },
   "outputs": [],
   "source": [
    "def flatten(d, parent_key='', sep='_'):\n",
    "    '''\n",
    "    input: nested dictionary\n",
    "    output: flattened dictionary\n",
    "    '''\n",
    "    \n",
    "    items = []\n",
    "    for k, v in d.items():\n",
    "        new_key = parent_key + sep + k if parent_key else k\n",
    "        if isinstance(v, collections.MutableMapping):\n",
    "            items.extend(flatten(v, new_key, sep=sep).items())\n",
    "        else:\n",
    "            items.append((new_key, v))\n",
    "    return dict(items)\n",
    "\n",
    "\n",
    "def get_tweet_dataframe(filename):\n",
    "    '''\n",
    "    input: filename (of pickle file)\n",
    "    output: pandas dataframe\n",
    "    \n",
    "    function loads pickled array of tweepy status objects, flattens the\n",
    "    nested json structure, appends these to a temporary array, and then\n",
    "    creates a dataframe from the array\n",
    "    '''\n",
    "    \n",
    "    tweet_list = []\n",
    "    timeline_tweets = pickle.load(open(filename, \"rb\"))\n",
    "    for tweet in timeline_tweets:\n",
    "        flat_tweet = flatten(tweet._json)\n",
    "        entity_hashtag = flat_tweet.pop('entities_hashtags',None)\n",
    "        if entity_hashtag == []:\n",
    "            flat_tweet['hashtag'] = []\n",
    "        else:\n",
    "            ht_list = []\n",
    "            for ht in entity_hashtag:\n",
    "                ht_list.append(ht['text'])\n",
    "            flat_tweet['hashtag'] = ht_list\n",
    "        tweet_list.append(flat_tweet)\n",
    "    tweet_dict = pd.DataFrame(tweet_list)\n",
    "    return tweet_dict"
   ]
  },
  {
   "cell_type": "code",
   "execution_count": 215,
   "metadata": {
    "collapsed": false
   },
   "outputs": [],
   "source": [
    "'''\n",
    "Get tweets from candidates\n",
    "'''\n",
    "\n",
    "(consumer_key, consumer_secret, access_token, access_secret) = pickle.load(open(\"auth_secrets.p\", \"rb\"))\n",
    "    \n",
    "auth = OAuthHandler(consumer_key, consumer_secret)\n",
    "auth.set_access_token(access_token, access_secret)\n",
    "api = tweepy.API(auth)\n",
    "\n",
    "'''\n",
    "Initialize arrays of tweets\n",
    "'''\n",
    "\n",
    "HC_timeline_tweets = []\n",
    "DT_timeline_tweets = []\n",
    "\n",
    "for tweet in tweepy.Cursor(api.user_timeline,id='HillaryClinton').items():\n",
    "    HC_timeline_tweets.append(tweet)\n",
    "\n",
    "for tweet in tweepy.Cursor(api.user_timeline,id='realDonaldTrump').items():\n",
    "    DT_timeline_tweets.append(tweet)"
   ]
  },
  {
   "cell_type": "code",
   "execution_count": 216,
   "metadata": {
    "collapsed": false
   },
   "outputs": [],
   "source": [
    "pickle.dump(HC_timeline_tweets, open( \"hc_tweets2.p\", \"wb\" ) )\n",
    "pickle.dump( DT_timeline_tweets, open( \"dt_tweets2.p\", \"wb\" ) )"
   ]
  },
  {
   "cell_type": "code",
   "execution_count": 222,
   "metadata": {
    "collapsed": false
   },
   "outputs": [],
   "source": [
    "# Create tweet dataframes for each of the candidates\n",
    "\n",
    "#HCdf = get_tweet_dataframe(\"hc_tweets.p\")\n",
    "#DTdf = get_tweet_dataframe(\"dt_tweets.p\")\n",
    "HCdf2 = get_tweet_dataframe(\"hc_tweets2.p\")\n",
    "DTdf2 = get_tweet_dataframe(\"dt_tweets2.p\")\n",
    "\n",
    "# Pickle the dataframes\n",
    "\n",
    "#pickle.dump(HCdf, open('HCdf.p', 'wb'))\n",
    "#pickle.dump(DTdf, open('DTdf.p', 'wb'))\n",
    "pickle.dump(HCdf2, open('HCdf2.p', 'wb'))\n",
    "pickle.dump(DTdf2, open('DTdf2.p', 'wb'))"
   ]
  },
  {
   "cell_type": "code",
   "execution_count": 2,
   "metadata": {
    "collapsed": true
   },
   "outputs": [],
   "source": [
    "# Load pickled dataframes\n",
    "HCdf2 = pickle.load(open('HCdf2.p', 'rb'))\n",
    "DTdf2 = pickle.load(open('DTdf2.p', 'rb'))"
   ]
  },
  {
   "cell_type": "code",
   "execution_count": 3,
   "metadata": {
    "collapsed": false
   },
   "outputs": [],
   "source": [
    "# Create new dataframes with just relevant columns\n",
    "HC = HCdf2[['text','favorite_count','retweet_count','created_at']]\n",
    "DT = DTdf2[['text','favorite_count','retweet_count','created_at']]"
   ]
  },
  {
   "cell_type": "code",
   "execution_count": 4,
   "metadata": {
    "collapsed": false
   },
   "outputs": [
    {
     "name": "stderr",
     "output_type": "stream",
     "text": [
      "/usr/local/lib/python2.7/site-packages/pandas/core/indexing.py:284: SettingWithCopyWarning: \n",
      "A value is trying to be set on a copy of a slice from a DataFrame.\n",
      "Try using .loc[row_indexer,col_indexer] = value instead\n",
      "\n",
      "See the caveats in the documentation: http://pandas.pydata.org/pandas-docs/stable/indexing.html#indexing-view-versus-copy\n",
      "  self.obj[key] = _infer_fill_value(value)\n",
      "/usr/local/lib/python2.7/site-packages/pandas/core/indexing.py:461: SettingWithCopyWarning: \n",
      "A value is trying to be set on a copy of a slice from a DataFrame.\n",
      "Try using .loc[row_indexer,col_indexer] = value instead\n",
      "\n",
      "See the caveats in the documentation: http://pandas.pydata.org/pandas-docs/stable/indexing.html#indexing-view-versus-copy\n",
      "  self.obj[item] = s\n"
     ]
    }
   ],
   "source": [
    "'''\n",
    "Add new feature columns to HC, DT dataframes\n",
    "'''\n",
    "\n",
    "def hr_func(ts):\n",
    "    return ts.hour\n",
    "\n",
    "def day_func(ts):\n",
    "    return ts.weekday()\n",
    "\n",
    "def char_length_func(ts):\n",
    "    return len(ts)\n",
    "\n",
    "def word_length_func(ts):\n",
    "    return len(ts.split(' '))\n",
    "\n",
    "HC.loc[:,'speaker']='HC'\n",
    "DT.loc[:,'speaker']='DT'\n",
    "\n",
    "DT.loc[:,'created_at']=pd.to_datetime(DT.loc[:,'created_at'])\n",
    "HC.loc[:,'created_at']=pd.to_datetime(HC.loc[:,'created_at'])\n",
    "\n",
    "DT.loc[:,'hour'] = DT.loc[:,'created_at'].apply(hr_func)\n",
    "HC.loc[:,'hour'] = HC.loc[:,'created_at'].apply(hr_func)\n",
    "\n",
    "DT.loc[:,'day'] = DT.loc[:,'created_at'].apply(day_func)\n",
    "HC.loc[:,'day'] = HC.loc[:,'created_at'].apply(day_func)\n",
    "\n",
    "DT.loc[:,'char_length'] = DT.loc[:,'text'].apply(char_length_func)\n",
    "HC.loc[:,'char_length'] = HC.loc[:,'text'].apply(char_length_func)\n",
    "\n",
    "DT.loc[:,'word_length'] = DT.loc[:,'text'].apply(word_length_func)\n",
    "HC.loc[:,'word_length'] = HC.loc[:,'text'].apply(word_length_func)"
   ]
  },
  {
   "cell_type": "code",
   "execution_count": 5,
   "metadata": {
    "collapsed": false
   },
   "outputs": [],
   "source": [
    "def clean_tweets(text_array):\n",
    "    '''\n",
    "    Function takes out urls, retweets, @users\n",
    "    '''\n",
    "    \n",
    "    edited_array = []\n",
    "    for tweet in text_array:\n",
    "        tweet = re.sub('\\u\\d+',' ',tweet.strip())\n",
    "        tweet = re.sub(r'http\\S*',' ',tweet)\n",
    "        tweet = re.sub(r'@\\S*',' ',tweet)\n",
    "        tweet = re.sub(r'[rR][tT]',' ',tweet)\n",
    "        edited_array.append(tweet)\n",
    "    return edited_array"
   ]
  },
  {
   "cell_type": "code",
   "execution_count": 6,
   "metadata": {
    "collapsed": false
   },
   "outputs": [],
   "source": [
    "HC.loc[:,'etext']=clean_tweets(HC['text'])[:]\n",
    "DT.loc[:,'etext']=clean_tweets(DT['text'])[:]"
   ]
  },
  {
   "cell_type": "code",
   "execution_count": 6,
   "metadata": {
    "collapsed": true
   },
   "outputs": [],
   "source": [
    "# Pickle simple dataframes\n",
    "pickle.dump(HC, open('HC.p', 'wb'))\n",
    "pickle.dump(DT, open('DT.p', 'wb'))"
   ]
  },
  {
   "cell_type": "code",
   "execution_count": 2,
   "metadata": {
    "collapsed": true
   },
   "outputs": [],
   "source": [
    "# Pickle simple dataframes\n",
    "HC = pickle.load(open('HC.p', 'rb'))\n",
    "DT = pickle.load(open('DT.p', 'rb'))"
   ]
  },
  {
   "cell_type": "code",
   "execution_count": 7,
   "metadata": {
    "collapsed": false
   },
   "outputs": [
    {
     "data": {
      "text/html": [
       "<div>\n",
       "<table border=\"1\" class=\"dataframe\">\n",
       "  <thead>\n",
       "    <tr style=\"text-align: right;\">\n",
       "      <th></th>\n",
       "      <th>text</th>\n",
       "      <th>favorite_count</th>\n",
       "      <th>retweet_count</th>\n",
       "      <th>created_at</th>\n",
       "      <th>speaker</th>\n",
       "      <th>hour</th>\n",
       "      <th>day</th>\n",
       "      <th>char_length</th>\n",
       "      <th>word_length</th>\n",
       "      <th>etext</th>\n",
       "      <th>guncontrol</th>\n",
       "      <th>abortion</th>\n",
       "      <th>immigration</th>\n",
       "      <th>criminal_justice</th>\n",
       "      <th>money</th>\n",
       "      <th>national_defense</th>\n",
       "      <th>climate_change</th>\n",
       "      <th>health_care</th>\n",
       "      <th>higher_education</th>\n",
       "      <th>diversity</th>\n",
       "    </tr>\n",
       "  </thead>\n",
       "  <tbody>\n",
       "    <tr>\n",
       "      <th>0</th>\n",
       "      <td>A great day to hit the campaign trail in Ohio ...</td>\n",
       "      <td>2147</td>\n",
       "      <td>685</td>\n",
       "      <td>2016-06-27 17:18:25</td>\n",
       "      <td>HC</td>\n",
       "      <td>17</td>\n",
       "      <td>0</td>\n",
       "      <td>91</td>\n",
       "      <td>13</td>\n",
       "      <td>A great day to hit the campaign trail in Ohio ...</td>\n",
       "      <td>0</td>\n",
       "      <td>0</td>\n",
       "      <td>0</td>\n",
       "      <td>0</td>\n",
       "      <td>0</td>\n",
       "      <td>0</td>\n",
       "      <td>0</td>\n",
       "      <td>0</td>\n",
       "      <td>0</td>\n",
       "      <td>0</td>\n",
       "    </tr>\n",
       "  </tbody>\n",
       "</table>\n",
       "</div>"
      ],
      "text/plain": [
       "                                                text  favorite_count  \\\n",
       "0  A great day to hit the campaign trail in Ohio ...            2147   \n",
       "\n",
       "   retweet_count          created_at speaker  hour  day  char_length  \\\n",
       "0            685 2016-06-27 17:18:25      HC    17    0           91   \n",
       "\n",
       "   word_length                                              etext  guncontrol  \\\n",
       "0           13  A great day to hit the campaign trail in Ohio ...           0   \n",
       "\n",
       "   abortion  immigration  criminal_justice  money  national_defense  \\\n",
       "0         0            0                 0      0                 0   \n",
       "\n",
       "   climate_change  health_care  higher_education  diversity  \n",
       "0               0            0                 0          0  "
      ]
     },
     "execution_count": 7,
     "metadata": {},
     "output_type": "execute_result"
    }
   ],
   "source": [
    "HC.head(1)"
   ]
  },
  {
   "cell_type": "code",
   "execution_count": 4,
   "metadata": {
    "collapsed": false
   },
   "outputs": [],
   "source": [
    "GUN_CONTROL=[\"gun\",\"assault weapon\",\"semi-automatic\",\"pistol grip\",\"selective fire weapons\",\n",
    "\"flash suppressor\",\"high-capacity magazine\",\"strawman purchase\",\"private party transfer\",\n",
    "\"federally licensed firearms dealer\",\"gunshow\",\"gunshow loophole\",\"gun control act of 1968\",\n",
    "\"firearm owners protection\",\"brady handgun violence prevention\",\"assault weapons ban\",\n",
    "\"second ammendment\",\"2nd ammendment\",\"national rifle association\"]\n",
    "ABORTION=[\"women's right\",\"right to choose\",\"prolife\",\"pro-life\",r\"roe vs\\.? wade\",\n",
    "         r\"pro-?choice\",\"planned parenthood\"]\n",
    "IMMIGRATION=[\"[Mm]exic\",\"[Mm]uslim\",\"refugee\",\"borders\",\"wall\",\"undocumented\",\"birthright citizenship\"]\n",
    "CRIMINAL_JUSTICE=[\"prison reform\",\"criminal sentencing\",\"steep penalties\",\"non-?violent\",\n",
    "                 \"drug offenses\",\"mass incarceration\",\"prison sentence\",\"black lives matter\",\n",
    "                 \"police shooting\",r\"death penalty|penalties\"]\n",
    "MONEY=[\"money\",\"budget\",\"jobs\",\"middle class\", \"wages\", \"economy\",\"economic\",\"recession\",\n",
    "      \"employment rate\",\"income gap\",\"minimum wage\",\"tax reform\",\"loopholes\",\"job creation\",\n",
    "      \"tax cut\",\"bankrupt\",\"Wall Street\",\"wallstreet\",\"rich\"]\n",
    "NATIONAL_DEFENSE=[\"defense\",\"security\",\"terrorism\",\"[sS]yria\",\"[iI]sis\",\"ISIS\", \"islamic state\",\n",
    "                  \"[iI]raq\",\"[iI]ran\",\"ground troops\",\"military\",\"nuclear deal\", \"isolation\"]\n",
    "CLIMATE_CHANGE=[\"climate\", \"climate change\", \"global warming\",\"carbon emitters\",\"carbon emission\",\n",
    "               \"clean power\",\"climate policy\",\"renewable energy\",\"fossil fuel\",\"coal\",\"gas\",\n",
    "               \"alternative energy\",\"reduce emission\",\"fossil fuel\", \"solar panel\",\"solar energy\"]\n",
    "HEALTH_CARE=[\"insurance\",\"health care\",\"healthcare\",\"doctor\",\"medication\",\"medicine\",\n",
    "            \"affordable care act\",\"obamacare\",\"insurance premium\",\"insurance cost\",\"healthcare\",\n",
    "            \"medicaid\",\"medicare\",\"prescription\"]\n",
    "HIGHER_EDUCATION=[\"college\",\"university education\",\"student loans\",\"gradutes\",\"student debt\",\n",
    "                 \"college expenses\",\"tution\",\"community college\",\"pell grants\"]\n",
    "DIVERSITY=['racism','lgbt','bigot','LGBT','gay','lesbian']"
   ]
  },
  {
   "cell_type": "code",
   "execution_count": 5,
   "metadata": {
    "collapsed": false
   },
   "outputs": [],
   "source": [
    "def issue_column(KEYWORD, tweet_array):\n",
    "    new_array = []\n",
    "    for t in tweet_array:\n",
    "        a=0\n",
    "        for g in KEYWORD:\n",
    "            if re.search(g,t):\n",
    "                a=1\n",
    "        new_array.append(a)\n",
    "    return new_array\n",
    "\n",
    "DT.loc[:,'guncontrol'] = issue_column(GUN_CONTROL,DT['etext'])\n",
    "DT.loc[:,'abortion'] = issue_column(ABORTION,DT['etext'])\n",
    "DT.loc[:,'immigration'] = issue_column(IMMIGRATION,DT['etext'])\n",
    "DT.loc[:,'criminal_justice'] = issue_column(CRIMINAL_JUSTICE,DT['etext'])\n",
    "DT.loc[:,'money'] = issue_column(MONEY,DT['etext'])\n",
    "DT.loc[:,'national_defense'] = issue_column(NATIONAL_DEFENSE,DT['etext'])\n",
    "DT.loc[:,'climate_change'] = issue_column(CLIMATE_CHANGE,DT['etext'])\n",
    "DT.loc[:,'health_care'] = issue_column(HEALTH_CARE,DT['etext'])\n",
    "DT.loc[:,'higher_education'] = issue_column(HIGHER_EDUCATION,DT['etext'])\n",
    "DT.loc[:,'diversity'] = issue_column(DIVERSITY,DT['etext'])\n",
    "HC.loc[:,'guncontrol'] = issue_column(GUN_CONTROL,HC['etext'])\n",
    "HC.loc[:,'abortion'] = issue_column(ABORTION,HC['etext'])\n",
    "HC.loc[:,'immigration'] = issue_column(IMMIGRATION,HC['etext'])\n",
    "HC.loc[:,'criminal_justice'] = issue_column(CRIMINAL_JUSTICE,HC['etext'])\n",
    "HC.loc[:,'money'] = issue_column(MONEY,HC['etext'])\n",
    "HC.loc[:,'national_defense'] = issue_column(NATIONAL_DEFENSE,HC['etext'])\n",
    "HC.loc[:,'climate_change'] = issue_column(CLIMATE_CHANGE,HC['etext'])\n",
    "HC.loc[:,'health_care'] = issue_column(HEALTH_CARE,HC['etext'])\n",
    "HC.loc[:,'higher_education'] = issue_column(HIGHER_EDUCATION,HC['etext'])\n",
    "HC.loc[:,'diversity'] = issue_column(DIVERSITY,HC['etext'])"
   ]
  },
  {
   "cell_type": "code",
   "execution_count": 137,
   "metadata": {
    "collapsed": true
   },
   "outputs": [],
   "source": [
    "def create_standard_figure2(df1,y,color):\n",
    "    # set figure size\n",
    "    fig = plt.figure(figsize=(8,3))\n",
    "    # set axes size\n",
    "    ax = fig.add_axes([0.15, 0.1, 0.8, 0.8])\n",
    "    \n",
    "    #df1.plot(x='created_at',y=y, ax=ax, color=color)\n",
    "    plot_date(df1['created_at'], df1[y]+.005,color=color,alpha=.3,markersize=24)\n",
    "    #plt.xlim(('1992-01-12','2017-01-15'))\n",
    "    plt.ylim(.99,1.01)\n",
    "    #ax.legend_.remove()\n",
    "    \n",
    "    \"\"\"\n",
    "    # Legend properties (position, text colors, background color)\n",
    "    legend=ax.legend(loc=\"center left\", bbox_to_anchor=[1,.5])\n",
    "    for color,text in zip(colors,legend.get_texts()):\n",
    "        text.set_color(color)\n",
    "        #text.set_color(\"grey\")\n",
    "        text.set_size(\"11\")\n",
    "    frame = legend.get_frame()\n",
    "    frame.set_facecolor('white')\n",
    "    \"\"\"\n",
    "    plt.tick_params(\n",
    "    axis='y',          # changes apply to the x-axis\n",
    "    which='both',      # both major and minor ticks are affected\n",
    "    left='off',      # ticks along the bottom edge are off\n",
    "    right='off')        # ticks along the top edge are of) \n",
    "    \n",
    "    ax.set_axis_bgcolor('white')\n",
    "    # Axes borderlines\n",
    "    ax.grid('off')\n",
    "    #ax.grid(axis='x',which='major', color='grey', linestyle='-')\n",
    "    ax.spines['top'].set_visible(False)\n",
    "    ax.spines['right'].set_visible(False)\n",
    "    ax.spines['left'].set_visible(False)\n",
    "    ax.spines['bottom'].set_color('lightgrey')\n",
    "    \n",
    "    ax.tick_params(axis='x',which='minor',bottom='off',top='off',left='off')\n",
    "    ax.tick_params(axis='x',which='major',top='off')\n",
    "    plt.plot(['2015-11-11','2016-06-28'], [1.005, 1.005], color='#348ABD',alpha=.3, linestyle='-', linewidth=.75)\n",
    "    plt.plot(['2015-11-11','2016-06-28'], [1-.005, 1-.005], color='#E24A33', alpha=.3,linestyle='-', linewidth=.75)\n",
    "    plt.annotate('CLINTON', xy=(-1.01,.72),xycoords='axes fraction',horizontalalignment='right',size=14,fontweight=\"bold\",color='#348ABD',**hfont) \n",
    "    plt.annotate('TRUMP', xy=(-1.01,.22),xycoords='axes fraction',horizontalalignment='right',size=14,fontweight=\"bold\",color='#E24A33',**hfont) \n",
    "\n",
    "    #ax.tick_params(axis='y',which='major',right='off')\n",
    "    #ax.tick_params(axis='y',which='major',left='off')\n",
    "    #ax.tick_params(axis='y',which='minor',left='off')\n",
    "    ax.set_xlabel('')\n",
    "    ax.set_yticklabels([])\n",
    "    \n",
    "    return fig, ax"
   ]
  },
  {
   "cell_type": "code",
   "execution_count": 138,
   "metadata": {
    "collapsed": false
   },
   "outputs": [
    {
     "data": {
      "image/png": "[encoded data removed]",
      "text/plain": [
       "<matplotlib.figure.Figure at 0x1113ce710>"
      ]
     },
     "metadata": {},
     "output_type": "display_data"
    }
   ],
   "source": [
    "fig,ax = create_standard_figure2(HC,'guncontrol','#348ABD')\n",
    "titlestring=\"Tweets referring to gun control\"\n",
    "plt.annotate(titlestring,\n",
    "                 xy=(0.5,.95),xycoords='figure fraction', \n",
    "                size=14,color='black',fontweight=\"bold\",\n",
    "                horizontalalignment='center', verticalalignment='center',**hfont)\n",
    "plt.plot(['2016-06-12','2016-06-12'], [0, 2], color='black', linestyle='-', linewidth=.75)\n",
    "\n",
    "plt.annotate('Orlando shootings', xy=('2016-06-08',1-.009),horizontalalignment='right', textcoords='data',size=12,color='black',**hfont) \n",
    "\n",
    "\n",
    "plot_date(DT['created_at'], DT['guncontrol']-.005,color='#E24A33',alpha=.3,markersize=24)\n",
    "ax.spines['right'].set_visible(False)\n",
    "ax.spines['left'].set_visible(False)\n",
    "fig.savefig('guncontrol.png',dpi=300)"
   ]
  },
  {
   "cell_type": "code",
   "execution_count": 139,
   "metadata": {
    "collapsed": false
   },
   "outputs": [
    {
     "data": {
      "image/png": "[encoded data removed]",
      "text/plain": [
       "<matplotlib.figure.Figure at 0x10e9e37d0>"
      ]
     },
     "metadata": {},
     "output_type": "display_data"
    }
   ],
   "source": [
    "fig,ax = create_standard_figure2(HC,'abortion','#348ABD')\n",
    "titlestring=\"Tweets referring to abortion\"\n",
    "plt.annotate(titlestring,\n",
    "                 xy=(0.5,.95),xycoords='figure fraction', \n",
    "                size=18,color='black',fontweight=\"bold\",\n",
    "                horizontalalignment='center', verticalalignment='center',**hfont)\n",
    "#plt.plot(['2016-06-12','2016-06-12'], [0, 2], color='grey', linestyle='-', linewidth=.75)\n",
    "#plt.annotate('Orlando shootings', xy=('2016-06-08',1-.009),horizontalalignment='right', textcoords='data',size=12,color='gray',**hfont) \n",
    "\n",
    "plot_date(DT['created_at'], DT['abortion']-.005,color='#E24A33',alpha=.3,markersize=24)\n",
    "ax.spines['right'].set_visible(False)\n",
    "ax.spines['left'].set_visible(False)\n",
    "fig.savefig('abortion.png',dpi=300)"
   ]
  },
  {
   "cell_type": "code",
   "execution_count": 140,
   "metadata": {
    "collapsed": false
   },
   "outputs": [
    {
     "data": {
      "image/png": "[encoded data removed]",
      "text/plain": [
       "<matplotlib.figure.Figure at 0x11117fcd0>"
      ]
     },
     "metadata": {},
     "output_type": "display_data"
    }
   ],
   "source": [
    "fig,ax = create_standard_figure2(HC,'immigration','#348ABD')\n",
    "titlestring=\"Tweets referring to immigration\"\n",
    "plt.annotate(titlestring,\n",
    "                 xy=(0.5,.95),xycoords='figure fraction', \n",
    "                size=18,color='black',fontweight=\"bold\",\n",
    "                horizontalalignment='center', verticalalignment='center',**hfont)\n",
    "\n",
    "plot_date(DT['created_at'], DT['immigration']-.005,color='#E24A33',alpha=.3,markersize=24)\n",
    "ax.spines['right'].set_visible(False)\n",
    "ax.spines['left'].set_visible(False)\n",
    "fig.savefig('immigration.png',dpi=300)"
   ]
  },
  {
   "cell_type": "code",
   "execution_count": 141,
   "metadata": {
    "collapsed": false
   },
   "outputs": [
    {
     "data": {
      "image/png": "[encoded data removed]",
      "text/plain": [
       "<matplotlib.figure.Figure at 0x11152cbd0>"
      ]
     },
     "metadata": {},
     "output_type": "display_data"
    }
   ],
   "source": [
    "fig,ax = create_standard_figure2(HC,'criminal_justice','#348ABD')\n",
    "titlestring=\"Tweets referring to criminal justice\"\n",
    "plt.annotate(titlestring,\n",
    "                 xy=(0.5,.95),xycoords='figure fraction', \n",
    "                size=18,color='black',fontweight=\"bold\",\n",
    "                horizontalalignment='center', verticalalignment='center',**hfont)\n",
    "\n",
    "plot_date(DT['created_at'], DT['criminal_justice']-.005,color='#E24A33',alpha=.3,markersize=24)\n",
    "ax.spines['right'].set_visible(False)\n",
    "ax.spines['left'].set_visible(False)\n",
    "fig.savefig('criminal_justice.png',dpi=300)"
   ]
  },
  {
   "cell_type": "code",
   "execution_count": 142,
   "metadata": {
    "collapsed": false
   },
   "outputs": [
    {
     "data": {
      "image/png": "[encoded data removed]",
      "text/plain": [
       "<matplotlib.figure.Figure at 0x1115dd150>"
      ]
     },
     "metadata": {},
     "output_type": "display_data"
    }
   ],
   "source": [
    "fig,ax = create_standard_figure2(HC,'money','#348ABD')\n",
    "titlestring=\"Tweets referring to the economy and jobs\"\n",
    "plt.annotate(titlestring,\n",
    "                 xy=(0.5,.95),xycoords='figure fraction', \n",
    "                size=18,color='black',fontweight=\"bold\",\n",
    "                horizontalalignment='center', verticalalignment='center',**hfont)\n",
    "\n",
    "plot_date(DT['created_at'], DT['money']-.005,color='#E24A33',alpha=.3,markersize=24)\n",
    "ax.spines['right'].set_visible(False)\n",
    "ax.spines['left'].set_visible(False)\n",
    "fig.savefig('money.png',dpi=300)"
   ]
  },
  {
   "cell_type": "code",
   "execution_count": 143,
   "metadata": {
    "collapsed": false
   },
   "outputs": [
    {
     "data": {
      "image/png": "[encoded data removed]",
      "text/plain": [
       "<matplotlib.figure.Figure at 0x1114cd050>"
      ]
     },
     "metadata": {},
     "output_type": "display_data"
    }
   ],
   "source": [
    "fig,ax = create_standard_figure2(HC,'national_defense','#348ABD')\n",
    "titlestring=\"Tweets referring to national defense\"\n",
    "plt.annotate(titlestring,\n",
    "                 xy=(0.5,.95),xycoords='figure fraction', \n",
    "                size=18,color='black',fontweight=\"bold\",\n",
    "                horizontalalignment='center', verticalalignment='center',**hfont)\n",
    "\n",
    "plot_date(DT['created_at'], DT['national_defense']-.005,color='#E24A33',alpha=.3,markersize=24)\n",
    "ax.spines['right'].set_visible(False)\n",
    "ax.spines['left'].set_visible(False)\n",
    "fig.savefig('national_defense.png',dpi=300)"
   ]
  },
  {
   "cell_type": "code",
   "execution_count": 144,
   "metadata": {
    "collapsed": false
   },
   "outputs": [
    {
     "data": {
      "image/png": "[encoded data removed]",
      "text/plain": [
       "<matplotlib.figure.Figure at 0x111c40510>"
      ]
     },
     "metadata": {},
     "output_type": "display_data"
    }
   ],
   "source": [
    "fig,ax = create_standard_figure2(HC,'climate_change','#348ABD')\n",
    "titlestring=\"Tweets referring to climate change\"\n",
    "plt.annotate(titlestring,\n",
    "                 xy=(0.5,.95),xycoords='figure fraction', \n",
    "                size=18,color='black',fontweight=\"bold\",\n",
    "                horizontalalignment='center', verticalalignment='center',**hfont)\n",
    "\n",
    "plot_date(DT['created_at'], DT['climate_change']-.005,color='#E24A33',alpha=.3,markersize=24)\n",
    "ax.spines['right'].set_visible(False)\n",
    "ax.spines['left'].set_visible(False)\n",
    "fig.savefig('climate_change.png',dpi=300)"
   ]
  },
  {
   "cell_type": "code",
   "execution_count": 85,
   "metadata": {
    "collapsed": false
   },
   "outputs": [
    {
     "data": {
      "image/png": "[encoded data removed]",
      "text/plain": [
       "<matplotlib.figure.Figure at 0x111422090>"
      ]
     },
     "metadata": {},
     "output_type": "display_data"
    }
   ],
   "source": [
    "fig,ax = create_standard_figure2(HC,'health_care','#348ABD')\n",
    "titlestring=\"Tweets referring to health care\"\n",
    "plt.annotate(titlestring,\n",
    "                 xy=(0.5,.95),xycoords='figure fraction', \n",
    "                size=18,color='black',fontweight=\"bold\",\n",
    "                horizontalalignment='center', verticalalignment='center',**hfont)\n",
    "\n",
    "plot_date(DT['created_at'], DT['health_care']-.005,color='#E24A33',alpha=.3,markersize=24)\n",
    "fig.savefig('health_care.png',dpi=300)"
   ]
  },
  {
   "cell_type": "code",
   "execution_count": 86,
   "metadata": {
    "collapsed": false
   },
   "outputs": [
    {
     "data": {
      "image/png": "[encoded data removed]",
      "text/plain": [
       "<matplotlib.figure.Figure at 0x11153eb10>"
      ]
     },
     "metadata": {},
     "output_type": "display_data"
    }
   ],
   "source": [
    "fig,ax = create_standard_figure2(HC,'higher_education','#348ABD')\n",
    "titlestring=\"Tweets referring to higher education\"\n",
    "plt.annotate(titlestring,\n",
    "                 xy=(0.5,.95),xycoords='figure fraction', \n",
    "                size=18,color='black',fontweight=\"bold\",\n",
    "                horizontalalignment='center', verticalalignment='center',**hfont)\n",
    "\n",
    "plot_date(DT['created_at'], DT['higher_education']-.005,color='#E24A33',alpha=.3,markersize=24)\n",
    "fig.savefig('higher_education.png',dpi=300)"
   ]
  },
  {
   "cell_type": "code",
   "execution_count": 87,
   "metadata": {
    "collapsed": false
   },
   "outputs": [
    {
     "data": {
      "image/png": "[encoded data removed]",
      "text/plain": [
       "<matplotlib.figure.Figure at 0x1116ba250>"
      ]
     },
     "metadata": {},
     "output_type": "display_data"
    }
   ],
   "source": [
    "fig,ax = create_standard_figure2(HC,'diversity','#348ABD')\n",
    "titlestring=\"Tweets referring to diversity\"\n",
    "plt.annotate(titlestring,\n",
    "                 xy=(0.5,.95),xycoords='figure fraction', \n",
    "                size=18,color='black',fontweight=\"bold\",\n",
    "                horizontalalignment='center', verticalalignment='center',**hfont)\n",
    "\n",
    "plot_date(DT['created_at'], DT['diversity']-.005,color='#E24A33',alpha=.3,markersize=24)\n",
    "fig.savefig('diversity.png',dpi=300)"
   ]
  },
  {
   "cell_type": "code",
   "execution_count": 50,
   "metadata": {
    "collapsed": false
   },
   "outputs": [
    {
     "data": {
      "text/plain": [
       "77      When I said that if, within the Orlando club, ...\n",
       "114     I will be meeting with the NRA, who has endors...\n",
       "174     Crooked Hillary Clinton will be a disaster on ...\n",
       "364     Crooked Hillary said that I  want guns brought...\n",
       "370     \"@RBacliff: Hillary wants to rip the guns out ...\n",
       "371     Crooked Hillary wants to get rid of all guns a...\n",
       "374     Crooked Hillary Clinton wants to essentially a...\n",
       "856     \"@roadsho: Challenge to all WI gun owners. Vot...\n",
       "1798    Politicians are trying to chip away at the 2nd...\n",
       "2261    \"@Kacee50: @realDonaldTrump Women make up the ...\n",
       "2297    Hillary said that guns don't keep you safe. If...\n",
       "2325    Well, the year has officially begun. I have ma...\n",
       "2535    \"@twister2445: @realDonaldTrump all I heard fr...\n",
       "Name: text, dtype: object"
      ]
     },
     "execution_count": 50,
     "metadata": {},
     "output_type": "execute_result"
    }
   ],
   "source": [
    "DT[DT['guncontrol']==1].text"
   ]
  },
  {
   "cell_type": "code",
   "execution_count": null,
   "metadata": {
    "collapsed": true
   },
   "outputs": [],
   "source": []
  },
  {
   "cell_type": "code",
   "execution_count": 105,
   "metadata": {
    "collapsed": false
   },
   "outputs": [],
   "source": [
    "def n_grams(tweets, n=1):\n",
    "    \n",
    "    bigram_vectorizer = CountVectorizer(ngram_range=(n,n),token_pattern=r'\\b\\w+\\b', min_df=1)\n",
    "    X_2 = bigram_vectorizer.fit_transform(tweets)\n",
    "    freqs = [(word, X_2.getcol(idx).sum()) for word, idx in bigram_vectorizer.vocabulary_.items()]\n",
    "    #sort from largest to smallest\n",
    "    ngramlist = sorted (freqs, key = lambda x: -x[1])\n",
    "    return ngramlist[:30]\n",
    "\n",
    "def n_grams_sw(tweets, n=1):\n",
    "    \n",
    "    bigram_vectorizer = CountVectorizer(ngram_range=(n,n),token_pattern=r'\\b\\w+\\b',stop_words='english')\n",
    "    X_2 = bigram_vectorizer.fit_transform(tweets)\n",
    "    freqs = [(word, X_2.getcol(idx).sum()) for word, idx in bigram_vectorizer.vocabulary_.items()]\n",
    "    #sort from largest to smallest\n",
    "    ngramlist = sorted (freqs, key = lambda x: -x[1])\n",
    "    return ngramlist[:30]"
   ]
  },
  {
   "cell_type": "code",
   "execution_count": 265,
   "metadata": {
    "collapsed": false
   },
   "outputs": [
    {
     "data": {
      "text/plain": [
       "<matplotlib.axes._subplots.AxesSubplot at 0x126405bd0>"
      ]
     },
     "execution_count": 265,
     "metadata": {},
     "output_type": "execute_result"
    },
    {
     "data": {
      "text/plain": [
       "<matplotlib.figure.Figure at 0x126405350>"
      ]
     },
     "metadata": {},
     "output_type": "display_data"
    },
    {
     "data": {
      "image/png": "[encoded data removed]",
      "text/plain": [
       "<matplotlib.figure.Figure at 0x11d790550>"
      ]
     },
     "metadata": {},
     "output_type": "display_data"
    }
   ],
   "source": [
    "plt.figure()\n",
    "ax = DT.plot.scatter(x='favorite_count',y='retweet_count',alpha=0.3,color='red')\n",
    "HC.plot.scatter(x='favorite_count',y='retweet_count',alpha=0.3,color='blue',ax=ax)"
   ]
  },
  {
   "cell_type": "code",
   "execution_count": 267,
   "metadata": {
    "collapsed": false
   },
   "outputs": [
    {
     "data": {
      "text/html": [
       "<div>\n",
       "<table border=\"1\" class=\"dataframe\">\n",
       "  <thead>\n",
       "    <tr style=\"text-align: right;\">\n",
       "      <th></th>\n",
       "      <th>text</th>\n",
       "      <th>favorite_count</th>\n",
       "      <th>retweet_count</th>\n",
       "      <th>created_at</th>\n",
       "      <th>speaker</th>\n",
       "      <th>hour</th>\n",
       "      <th>day</th>\n",
       "      <th>char_length</th>\n",
       "      <th>word_length</th>\n",
       "      <th>etext</th>\n",
       "    </tr>\n",
       "  </thead>\n",
       "  <tbody>\n",
       "    <tr>\n",
       "      <th>0</th>\n",
       "      <td>.@CNN is all negative when it comes to me. I d...</td>\n",
       "      <td>12505</td>\n",
       "      <td>3614</td>\n",
       "      <td>2016-06-27 13:39:12</td>\n",
       "      <td>DT</td>\n",
       "      <td>13</td>\n",
       "      <td>0</td>\n",
       "      <td>68</td>\n",
       "      <td>14</td>\n",
       "      <td>. is all negative when it comes to me. I don't...</td>\n",
       "    </tr>\n",
       "  </tbody>\n",
       "</table>\n",
       "</div>"
      ],
      "text/plain": [
       "                                                text  favorite_count  \\\n",
       "0  .@CNN is all negative when it comes to me. I d...           12505   \n",
       "\n",
       "   retweet_count          created_at speaker  hour  day  char_length  \\\n",
       "0           3614 2016-06-27 13:39:12      DT    13    0           68   \n",
       "\n",
       "   word_length                                              etext  \n",
       "0           14  . is all negative when it comes to me. I don't...  "
      ]
     },
     "execution_count": 267,
     "metadata": {},
     "output_type": "execute_result"
    }
   ],
   "source": [
    "DT.head(1)"
   ]
  },
  {
   "cell_type": "code",
   "execution_count": 274,
   "metadata": {
    "collapsed": false
   },
   "outputs": [
    {
     "name": "stdout",
     "output_type": "stream",
     "text": [
      "Fitting 5 folds for each of 576 candidates, totalling 2880 fits\n"
     ]
    },
    {
     "name": "stderr",
     "output_type": "stream",
     "text": [
      "[Parallel(n_jobs=-1)]: Done  42 tasks      | elapsed:   16.2s\n",
      "[Parallel(n_jobs=-1)]: Done 192 tasks      | elapsed:  1.2min\n",
      "[Parallel(n_jobs=-1)]: Done 442 tasks      | elapsed:  3.1min\n",
      "[Parallel(n_jobs=-1)]: Done 792 tasks      | elapsed:  6.0min\n",
      "[Parallel(n_jobs=-1)]: Done 1242 tasks      | elapsed:  9.8min\n",
      "[Parallel(n_jobs=-1)]: Done 1792 tasks      | elapsed: 13.5min\n",
      "[Parallel(n_jobs=-1)]: Done 2442 tasks      | elapsed: 18.5min\n",
      "[Parallel(n_jobs=-1)]: Done 2880 out of 2880 | elapsed: 22.2min finished\n"
     ]
    },
    {
     "name": "stdout",
     "output_type": "stream",
     "text": [
      "The best parameters are {'vect__ngram_range': (1, 2), 'vect__max_df': 1.0, 'clf__n_iter': 80, 'tfidf__use_idf': True, 'tfidf__norm': 'l2', 'clf__penalty': 'l2', 'clf__alpha': 1e-05} with a score of 0.92\n"
     ]
    }
   ],
   "source": [
    "# define a pipeline combining a text feature extractor with a simple\n",
    "# classifier\n",
    "pipeline = Pipeline([\n",
    "    ('vect', CountVectorizer()),\n",
    "    ('tfidf', TfidfTransformer()),\n",
    "    ('clf', SGDClassifier()),\n",
    "])\n",
    "\n",
    "parameters = {\n",
    "    'vect__max_df': (0.5, 0.75, 1.0),\n",
    "    #'vect__max_features': (None, 5000, 10000, 50000),\n",
    "    'vect__ngram_range': ((1, 1), (1, 2),(1,3),(1,4)),  # unigrams or bigrams\n",
    "    'tfidf__use_idf': (True, False),\n",
    "    'tfidf__norm': ('l1', 'l2'),\n",
    "    'clf__alpha': (0.00001, 0.000001),\n",
    "    'clf__penalty': ('l2', 'elasticnet'),\n",
    "    'clf__n_iter': (10, 50, 80),\n",
    "}\n",
    "\n",
    "X = HCDF['etext']\n",
    "y = HCDF['speaker']\n",
    "\n",
    "cv = StratifiedShuffleSplit(y, n_iter=5, test_size=0.2, random_state=42)\n",
    "grid = GridSearchCV(pipeline, parameters, n_jobs=-1, verbose=1, cv=cv)\n",
    "grid.fit(X, y)\n",
    "\n",
    "print(\"The best parameters are %s with a score of %0.2f\"\n",
    "      % (grid.best_params_, grid.best_score_))"
   ]
  },
  {
   "cell_type": "code",
   "execution_count": 443,
   "metadata": {
    "collapsed": false,
    "scrolled": true
   },
   "outputs": [
    {
     "name": "stdout",
     "output_type": "stream",
     "text": [
      "['DT']\n",
      "['DT']\n"
     ]
    }
   ],
   "source": [
    "print grid.predict(['I am the only one who can save the country'])\n",
    "print grid.predict(['good'])"
   ]
  },
  {
   "cell_type": "code",
   "execution_count": 326,
   "metadata": {
    "collapsed": false
   },
   "outputs": [
    {
     "name": "stdout",
     "output_type": "stream",
     "text": [
      "['DT']\n"
     ]
    }
   ],
   "source": [
    "print grid.predict(['why do you pay your taxes but doesn\"t?? watch  new video with @moveon'])"
   ]
  },
  {
   "cell_type": "code",
   "execution_count": 320,
   "metadata": {
    "collapsed": true
   },
   "outputs": [],
   "source": [
    "pickle.dump(grid, open('DTHC_predictor.p', 'wb'))"
   ]
  },
  {
   "cell_type": "code",
   "execution_count": 542,
   "metadata": {
    "collapsed": false
   },
   "outputs": [
    {
     "data": {
      "text/html": [
       "<div>\n",
       "<table border=\"1\" class=\"dataframe\">\n",
       "  <thead>\n",
       "    <tr style=\"text-align: right;\">\n",
       "      <th></th>\n",
       "      <th>text</th>\n",
       "      <th>favorite_count</th>\n",
       "      <th>retweet_count</th>\n",
       "      <th>created_at</th>\n",
       "      <th>speaker</th>\n",
       "      <th>hour</th>\n",
       "      <th>day</th>\n",
       "      <th>char_length</th>\n",
       "      <th>word_length</th>\n",
       "      <th>etext</th>\n",
       "      <th>guns</th>\n",
       "      <th>abortion</th>\n",
       "      <th>immigration</th>\n",
       "      <th>money</th>\n",
       "      <th>nationaldefense</th>\n",
       "      <th>climatechange</th>\n",
       "      <th>healthcare</th>\n",
       "      <th>highereducation</th>\n",
       "      <th>diversity</th>\n",
       "    </tr>\n",
       "  </thead>\n",
       "  <tbody>\n",
       "    <tr>\n",
       "      <th>0</th>\n",
       "      <td>A great day to hit the campaign trail in Ohio ...</td>\n",
       "      <td>2147</td>\n",
       "      <td>685</td>\n",
       "      <td>2016-06-27 17:18:25</td>\n",
       "      <td>HC</td>\n",
       "      <td>17</td>\n",
       "      <td>0</td>\n",
       "      <td>91</td>\n",
       "      <td>13</td>\n",
       "      <td>A great day to hit the campaign trail in Ohio ...</td>\n",
       "      <td>0</td>\n",
       "      <td>0</td>\n",
       "      <td>0</td>\n",
       "      <td>0</td>\n",
       "      <td>0</td>\n",
       "      <td>0</td>\n",
       "      <td>0</td>\n",
       "      <td>0</td>\n",
       "      <td>0</td>\n",
       "    </tr>\n",
       "    <tr>\n",
       "      <th>1</th>\n",
       "      <td>\"Hillary believes that racism, hatred, injusti...</td>\n",
       "      <td>2984</td>\n",
       "      <td>1155</td>\n",
       "      <td>2016-06-27 16:04:36</td>\n",
       "      <td>HC</td>\n",
       "      <td>16</td>\n",
       "      <td>0</td>\n",
       "      <td>133</td>\n",
       "      <td>15</td>\n",
       "      <td>\"Hillary believes that racism, hatred, injusti...</td>\n",
       "      <td>0</td>\n",
       "      <td>0</td>\n",
       "      <td>0</td>\n",
       "      <td>0</td>\n",
       "      <td>0</td>\n",
       "      <td>0</td>\n",
       "      <td>0</td>\n",
       "      <td>0</td>\n",
       "      <td>1</td>\n",
       "    </tr>\n",
       "  </tbody>\n",
       "</table>\n",
       "</div>"
      ],
      "text/plain": [
       "                                                text  favorite_count  \\\n",
       "0  A great day to hit the campaign trail in Ohio ...            2147   \n",
       "1  \"Hillary believes that racism, hatred, injusti...            2984   \n",
       "\n",
       "   retweet_count          created_at speaker  hour  day  char_length  \\\n",
       "0            685 2016-06-27 17:18:25      HC    17    0           91   \n",
       "1           1155 2016-06-27 16:04:36      HC    16    0          133   \n",
       "\n",
       "   word_length                                              etext  guns  \\\n",
       "0           13  A great day to hit the campaign trail in Ohio ...     0   \n",
       "1           15  \"Hillary believes that racism, hatred, injusti...     0   \n",
       "\n",
       "   abortion  immigration  money  nationaldefense  climatechange  healthcare  \\\n",
       "0         0            0      0                0              0           0   \n",
       "1         0            0      0                0              0           0   \n",
       "\n",
       "   highereducation  diversity  \n",
       "0                0          0  \n",
       "1                0          1  "
      ]
     },
     "execution_count": 542,
     "metadata": {},
     "output_type": "execute_result"
    }
   ],
   "source": [
    "HC.head(2)"
   ]
  },
  {
   "cell_type": "code",
   "execution_count": 515,
   "metadata": {
    "collapsed": false
   },
   "outputs": [
    {
     "name": "stderr",
     "output_type": "stream",
     "text": [
      "/usr/local/lib/python2.7/site-packages/IPython/kernel/__main__.py:1: SettingWithCopyWarning: \n",
      "A value is trying to be set on a copy of a slice from a DataFrame.\n",
      "Try using .loc[row_indexer,col_indexer] = value instead\n",
      "\n",
      "See the caveats in the documentation: http://pandas.pydata.org/pandas-docs/stable/indexing.html#indexing-view-versus-copy\n",
      "  if __name__ == '__main__':\n",
      "/usr/local/lib/python2.7/site-packages/IPython/kernel/__main__.py:2: SettingWithCopyWarning: \n",
      "A value is trying to be set on a copy of a slice from a DataFrame.\n",
      "Try using .loc[row_indexer,col_indexer] = value instead\n",
      "\n",
      "See the caveats in the documentation: http://pandas.pydata.org/pandas-docs/stable/indexing.html#indexing-view-versus-copy\n",
      "  from IPython.kernel.zmq import kernelapp as app\n",
      "/usr/local/lib/python2.7/site-packages/IPython/kernel/__main__.py:3: SettingWithCopyWarning: \n",
      "A value is trying to be set on a copy of a slice from a DataFrame.\n",
      "Try using .loc[row_indexer,col_indexer] = value instead\n",
      "\n",
      "See the caveats in the documentation: http://pandas.pydata.org/pandas-docs/stable/indexing.html#indexing-view-versus-copy\n",
      "  app.launch_new_instance()\n",
      "/usr/local/lib/python2.7/site-packages/IPython/kernel/__main__.py:4: SettingWithCopyWarning: \n",
      "A value is trying to be set on a copy of a slice from a DataFrame.\n",
      "Try using .loc[row_indexer,col_indexer] = value instead\n",
      "\n",
      "See the caveats in the documentation: http://pandas.pydata.org/pandas-docs/stable/indexing.html#indexing-view-versus-copy\n",
      "/usr/local/lib/python2.7/site-packages/IPython/kernel/__main__.py:5: SettingWithCopyWarning: \n",
      "A value is trying to be set on a copy of a slice from a DataFrame.\n",
      "Try using .loc[row_indexer,col_indexer] = value instead\n",
      "\n",
      "See the caveats in the documentation: http://pandas.pydata.org/pandas-docs/stable/indexing.html#indexing-view-versus-copy\n",
      "/usr/local/lib/python2.7/site-packages/IPython/kernel/__main__.py:6: SettingWithCopyWarning: \n",
      "A value is trying to be set on a copy of a slice from a DataFrame.\n",
      "Try using .loc[row_indexer,col_indexer] = value instead\n",
      "\n",
      "See the caveats in the documentation: http://pandas.pydata.org/pandas-docs/stable/indexing.html#indexing-view-versus-copy\n",
      "/usr/local/lib/python2.7/site-packages/IPython/kernel/__main__.py:7: SettingWithCopyWarning: \n",
      "A value is trying to be set on a copy of a slice from a DataFrame.\n",
      "Try using .loc[row_indexer,col_indexer] = value instead\n",
      "\n",
      "See the caveats in the documentation: http://pandas.pydata.org/pandas-docs/stable/indexing.html#indexing-view-versus-copy\n",
      "/usr/local/lib/python2.7/site-packages/IPython/kernel/__main__.py:8: SettingWithCopyWarning: \n",
      "A value is trying to be set on a copy of a slice from a DataFrame.\n",
      "Try using .loc[row_indexer,col_indexer] = value instead\n",
      "\n",
      "See the caveats in the documentation: http://pandas.pydata.org/pandas-docs/stable/indexing.html#indexing-view-versus-copy\n",
      "/usr/local/lib/python2.7/site-packages/IPython/kernel/__main__.py:9: SettingWithCopyWarning: \n",
      "A value is trying to be set on a copy of a slice from a DataFrame.\n",
      "Try using .loc[row_indexer,col_indexer] = value instead\n",
      "\n",
      "See the caveats in the documentation: http://pandas.pydata.org/pandas-docs/stable/indexing.html#indexing-view-versus-copy\n",
      "/usr/local/lib/python2.7/site-packages/IPython/kernel/__main__.py:10: SettingWithCopyWarning: \n",
      "A value is trying to be set on a copy of a slice from a DataFrame.\n",
      "Try using .loc[row_indexer,col_indexer] = value instead\n",
      "\n",
      "See the caveats in the documentation: http://pandas.pydata.org/pandas-docs/stable/indexing.html#indexing-view-versus-copy\n",
      "/usr/local/lib/python2.7/site-packages/IPython/kernel/__main__.py:11: SettingWithCopyWarning: \n",
      "A value is trying to be set on a copy of a slice from a DataFrame.\n",
      "Try using .loc[row_indexer,col_indexer] = value instead\n",
      "\n",
      "See the caveats in the documentation: http://pandas.pydata.org/pandas-docs/stable/indexing.html#indexing-view-versus-copy\n",
      "/usr/local/lib/python2.7/site-packages/IPython/kernel/__main__.py:12: SettingWithCopyWarning: \n",
      "A value is trying to be set on a copy of a slice from a DataFrame.\n",
      "Try using .loc[row_indexer,col_indexer] = value instead\n",
      "\n",
      "See the caveats in the documentation: http://pandas.pydata.org/pandas-docs/stable/indexing.html#indexing-view-versus-copy\n",
      "/usr/local/lib/python2.7/site-packages/IPython/kernel/__main__.py:13: SettingWithCopyWarning: \n",
      "A value is trying to be set on a copy of a slice from a DataFrame.\n",
      "Try using .loc[row_indexer,col_indexer] = value instead\n",
      "\n",
      "See the caveats in the documentation: http://pandas.pydata.org/pandas-docs/stable/indexing.html#indexing-view-versus-copy\n",
      "/usr/local/lib/python2.7/site-packages/IPython/kernel/__main__.py:14: SettingWithCopyWarning: \n",
      "A value is trying to be set on a copy of a slice from a DataFrame.\n",
      "Try using .loc[row_indexer,col_indexer] = value instead\n",
      "\n",
      "See the caveats in the documentation: http://pandas.pydata.org/pandas-docs/stable/indexing.html#indexing-view-versus-copy\n",
      "/usr/local/lib/python2.7/site-packages/IPython/kernel/__main__.py:15: SettingWithCopyWarning: \n",
      "A value is trying to be set on a copy of a slice from a DataFrame.\n",
      "Try using .loc[row_indexer,col_indexer] = value instead\n",
      "\n",
      "See the caveats in the documentation: http://pandas.pydata.org/pandas-docs/stable/indexing.html#indexing-view-versus-copy\n",
      "/usr/local/lib/python2.7/site-packages/IPython/kernel/__main__.py:16: SettingWithCopyWarning: \n",
      "A value is trying to be set on a copy of a slice from a DataFrame.\n",
      "Try using .loc[row_indexer,col_indexer] = value instead\n",
      "\n",
      "See the caveats in the documentation: http://pandas.pydata.org/pandas-docs/stable/indexing.html#indexing-view-versus-copy\n"
     ]
    }
   ],
   "source": [
    "HC['diversity']=HC_diversity\n",
    "DT['diversity']=DT_diversity\n",
    "HC['guns']=HC_guns\n",
    "DT['guns']=DT_guns\n",
    "HC['abortion']=HC_abortion\n",
    "DT['abortion']=DT_abortion\n",
    "HC['immigration']=HC_immigration\n",
    "DT['immigration']=DT_immigration\n",
    "HC['money']=HC_money\n",
    "DT['money']=DT_money\n",
    "HC['nationaldefense']=HC_nationaldefense\n",
    "DT['nationaldefense']=DT_nationaldefense\n",
    "HC['climatechange']=HC_climatechange\n",
    "DT['climatechange']=DT_climatechange\n",
    "HC['healthcare']=HC_healthcare\n",
    "DT['healthcare']=DT_healthcare\n",
    "HC['highereducation']=HC_highereducation\n",
    "DT['highereducation']=DT_highereducation"
   ]
  },
  {
   "cell_type": "code",
   "execution_count": 453,
   "metadata": {
    "collapsed": false
   },
   "outputs": [
    {
     "name": "stdout",
     "output_type": "stream",
     "text": [
      "Not even a sit-in in Congress could convince Republican leadership to move forward on gun violence prevention. Americans deserve better.\n",
      "No person should be gunned down while learning, teaching, praying, or dancing. It's time for us to come together to strengthen our gun laws.\n",
      "Thank you, #DemocraticSitIn. Your determination has exposed Republican inaction on gun violence and demanded better. We can't give up. -H\n",
      "  . we will not leave without acting for the victims &amp; families of reckless gun violence. #NoBillNoBreak \n",
      "  Rather than debate &amp; vote on common sense gun safety legislation,  has sent House home early for July 4 holiday…\n",
      "  This is what the #gunviolence #sitin looks like frm where I'm sitting #AsLongAsItTakes #NoBillNoBreak #NoMoreSilence \n",
      "  . want to know a more effective way to end this sit-in? Let us vote our consciences on gun legislation! #NoBil…\n",
      "House Republicans may have cut the cameras, but they can't cut off our voices. We have to act on gun violence. -H \n",
      "An overwhelming majority of Americans (and gun owners) suppo steps to reduce gun violence.\n",
      "\n",
      " if you're one of them. #DisarmHate\n",
      "Our prayers are not enough to prevent gun violence.\n",
      "\n",
      "Tell your senators to vote to expand background checks tonight: \n",
      "You inspire me too,  Let's all demand action on gun violence prevention:  \n",
      "Tonight, the Senate will vote on commonsense measures to prevent gun violence. Tell your senators you suppo them: \n",
      "We owe families of gun violence victims more than prayers.\n",
      "\n",
      "Tell your senators to act on gun violence prevention: \n",
      "It's absurd that people with suspected terrorist links can buy a gun in America, no questions asked. \n",
      "Some fights are too impoant to stay silent. Preventing gun violence is one of them. Stand strong  \n",
      "People can’t board planes with full shampoo bottles—but people being watched by the FBI for terrorism can buy a gun, no questions asked?\n",
      "\"I believe we Americans are capable of protecting Second Amendment rights while making sure guns don’t fall into the wrong hands.\" —Hillary\n",
      "If you’re too dangerous to get on a plane, you're too dangerous to buy a gun in America. \n",
      "If the FBI is watching you for suspected terrorist links, you shouldn’t be able to just go buy a gun with no questions asked.\n",
      "\"We need to keep guns like the ones used last night out of the hands of terrorists or other violent criminals.\" —Hillary on the FL attack\n",
      "33,000 people die from gun violence each year.\n",
      " \n",
      "We can save a lot of these lives.\n",
      "\n",
      "  The choice is clear: Hillary Clinton is the only candidate who consistently stands with gun safety. #ImWithHer \n",
      "We will never be silenced or intimidated by the gun lobby. Honored to have  &amp;  suppo. -H \n",
      "\"Unlike Donald Trump, I will not pander to the gun lobby. We will not be silenced and we will not be intimidated.\" —Hillary\n",
      "You're wrong,  We can uphold Second Amendment rights while preventing senseless gun violence. \n",
      "FACT: Donald Trump would force schools to allow guns in classrooms on his first day in office. \n",
      "Sybrina, you and all mothers of gun violence victims have taught us hate will never win. Thinking of you today.  -H\n",
      ". would force all schools to allow guns in classrooms—on his first day in office.\n",
      "\n",
      "Seriously. \n",
      "Preguntamos a varios neoyorquinos sobre Donald Trump—y estas fueron sus reacciones. \n",
      "\"Systemic racism, inter-generational povey, gun violence—these aren’t somebody else’s problems. These are our problems.\" —Hillary\n",
      "Conoce alguno de los logros de Hillary Clinton a través de los años. \n",
      "If our leaders won't stand up to the gun lobby, we need to hold them accountable.\n",
      "\n",
      "America's gun violence epidemic is out of control. No more excuses—we need to act to save lives.\n",
      "\n",
      "A few bad actors supply the vast majority of guns used in crimes. We need to stop them.  \n",
      "About 90 people are killed by guns every day in America. We can't accept that as normal. #StopGunViolence \n",
      "It's time for us to say, \"enough is enough.\" We have to protect families, not the gun lobby.\n",
      "\n",
      "This couple lost their daughter in the Aurora shooting. Now, they have to pay the gun dealer's legal fees.\n",
      "\n",
      "We need a president who will take action on gun violence and stand with victims' families against the gun lobby.\n",
      "\n",
      "A record of results, from taking on the gun lobby to securing health care for millions of kids.  #DemDebate\n",
      "We need a president who will always put families above the gun lobby. #DemDebate\n",
      "\n",
      "  The biggest effo in years to stem the flow of guns onto the black market ended with the bill Sanders helped pass \n",
      "There's only one candidate on stage who thinks gun makers should be held accountable for gun deaths.  #DemDebate\n",
      "How is it possible that it's easier to sue a toy maker for endangering your child than a gun maker? #DemDebate\n",
      "33,000 people die every year in this country from guns. 90 each day. 1,000 shot a year in New York City. That's not acceptable. Full stop.\n",
      "American women are 11 times more likely to be murdered by a gun than in any other developed nation:  #StopGunViolence\n",
      "Even in states with strict gun laws, illegal weapons are often just a bus ride away. We have to fix this: \n",
      "A majority of Americans (and gun owners) suppo steps to reduce gun violence.\n",
      "\n",
      " if you're one of them.\n",
      "\n",
      "We can't accept this as \"normal.\" It's time to help stop gun violence:  \n",
      "If toy companies are held accountable for endangering our kids, gun makers should be too. Let's end their immunity. \n",
      "We can protect our Second Amendment rights AND take commonsense steps to prevent gun violence. It’s just a question of whether we choose to.\n",
      "33,000 Americans die from gun violence each year. No other developed country comes close.  \n",
      ". prioritized gun manufacturers' rights over the parents of the children killed at Sandy Hook.\n",
      "\n",
      " remember, any hateful comments are just noise compared to your voice for change. With you in the fight to stop gun violence. -H\n",
      "  Democrats cannot nominate a candidate who believes that toy gun makers should be held to a higher legal standard than re…\n",
      "“It's time we stand up to the gun lobby and stand with parents who have lost their children to gun violence.” \n",
      "“Four boys shot my son dead on Christmas Eve.\" A moment backstage with a mom who lost her son to gun violence.\n",
      "\n",
      "While the other candidates \"seem downright terrified of the gun lobby, Hillary seems fearless.\" — \n",
      "Moved by the families I met in Chicago who have lost children to gun violence. Their grief is a call to action. -H \n",
      "It's absolutely unacceptable that the gun industry can't be held accountable when they endanger Americans. #DemTownHall\n",
      "\"I am sick and tired of these murders and random acts of gun violence.\" —Hillary #DemTownHall\n",
      "\"Failing to do anything—which is what we're doing now—will only lead to more loss of life.\" —Hillary on gun violence prevention #DemTownHall\n",
      "Negligent gun manufacturers should be held accountable when they endanger our families.\n",
      "\n",
      "We can’t accept 33,000 gun deaths per year as “normal.” Most Americans—including law-abiding gun owners—believe we can do better.\n",
      "Ninguna persona que trabaje a tiempo completo debería criar a sus hijos en la pobreza.\n",
      "Joining  today to continue the conversation he's been having on guns in America. Don’t miss it!\n",
      "\n",
      "A chilling explainer from  on the state of gun violence in America. \n",
      "  This loophole helped the Charleston shooter get his gun. Here's  on why we need to close it.\n",
      "\n",
      "It’s time to close this dangerous loophole in our gun laws. \n",
      "How one law gives gun makers immunity from accountability and could derail justice for Sandy Hook families. \n",
      "  Sandy Hook families are in cou against gun makers today. But only one candidate for president has had their back. ht…\n",
      "Couldn't agree more,  It's time to act on gun violence. Thank you for telling these stories today. \n",
      "\n",
      "We should insist that ending gun violence is a priority in this election. \n",
      "✔️ Wall Street\n",
      "✔️ Price-gouging pharmaceutical companies\n",
      "✔️ The gun lobby\n",
      "We will go after industries when they hu families. #DemDebate\n",
      "It is absolutely unconscionable to lose 33,000 Americans a year to gun violence. We are going to take on the gun lobby. #DemTownHall\n",
      "While the other candidates \"seem downright terrified of the gun lobby, Hillary seems fearless.\" — \n",
      "This is it: The #IowaCaucus has begun! If you're standing with Hillary, let her know why by tweeting #ImWithHer. \n",
      "To congregations across SC remembering victims of gun violence close to home and around the country today: We're with you. -H #StandUpSunday\n",
      "  Remembering #HadiyaPendleton, whose life was taken 3 yrs ago today. We've lost too many young people to gun violence, it's tim…\n",
      "Mientras los Republicanos no ofrecen ninguna solución, Hillary apoya una reforma migratoria con un camino hacia la ciudadanía. #GOPdebate\n",
      "Una buena pregunta para los Republicanos, ¿no va en contra de nuestros valores discriminar a personas sólo por su religión? #GOPdebate\n",
      "The NRA has called the shots long enough.  and  on why we need to repeal gun immunity: \n",
      "How much do you know about the loopholes in our gun laws? \n",
      "33,000 people are killed by guns every year. We’re better than that—we need commonsense reform now.\n",
      "We need a president who will always, always put American families over the gun lobby. #DemDebate\n",
      "\n",
      "The answers on gun violence at the #GOPdebate reached an all-time low. \n",
      "\"I’ll fight to close the loophole that the Charleston shooter slipped through when he bought his gun.\" —Hillary #HRCinSC\n",
      ". wants to require universal background checks and hold gun manufacturers accountable. If you agree, sign on: \n",
      "A Republican president would undo  progress on climate, guns, immigration, and a whole lot more.  t2\n",
      "Comprehensive background checks would ensure those who can responsibly own guns do—and those who can’t, don't. #GOPdebate\n",
      "Nobody's attacking the Second Amendment. We can protect Americans' rights—and also protect families from gun violence. #GOPdebate\n",
      "It’s time to pick a side: Stand with the gun lobby or stand up to it. \n",
      "Ending the gun industry’s immunity from lawsuits is critical to tackling the epidemic of gun violence in America. \n",
      ". by the numbers: 18 million insured, 14 million new jobs, 27 executive actions to stop gun violence... \n",
      "“An open seat at the State of the Union will honor gun violence victims—including my 6-year-old.”  #SOTU\n",
      ". Hillary consistently put the safety of Americans ahead of the interests of the corporate gun lobby. \n",
      "\"Young people need a president who will stand up to inaction [on guns]...that person is Hillary.\" - \n",
      "  We need a president tough enough to stand up to the gun lobby.  is that person. #ImWithHer \n",
      "As  spoke powerfully on protecting kids from gun violence,  said end gun free school zones. We deserve better. -H\n",
      "2016 should be remembered as the year America decided to take on gun violence.  #GunsInAmerica\n",
      ". is right: We can protect the Second Amendment while protecting our families and communities from gun violence. And we have to.\n",
      "Thank you,  for taking a crucial step forward on gun violence. Our next president has to build on that progress—not rip it away. -H\n",
      "Dr. Sakran nearly died after a gunshot wound at 17. Today, he's a trauma surgeon fighting to end gun violence. \n",
      "  President Obama and Hillary have proposals to tackle gun violence.\n",
      "\n",
      "A GOP President would take any progress away. \n",
      "We need a president who will stand up to the gun lobby. Add your name if you agree: \n",
      "  Hillary is staing 2016 in NH right where she left off in 2015–on a mission to prevent gun violence. #HillaryInNH \n",
      "A young man in NH asked: How are you going to make sure me and my brothers are safe from gun violence at school?\n",
      "\n",
      "We should prioritize American families over the gun lobby—period. #DemDebate \n",
      "The candidates on stage talk tough—but they won't even suppo legislation preventing suspected terrorists from getting guns. #GOPdebate\n",
      "\"I have this old fashioned idea that we elect a president to keep us safe...I’m not going to let the gun lobby tell me that’s not right.\"\n",
      "\"I have news for [Republicans]—terrorists use guns to kill Americans. I think we should make it harder for them from to do that.\" —Hillary\n",
      "\"It defies common sense that Republicans in Congress refuse to make it harder for potential terrorists to buy guns.\" —Hillary\n"
     ]
    }
   ],
   "source": [
    "for t in HC['etext']:\n",
    "    if 'gun' in t:\n",
    "        print t"
   ]
  },
  {
   "cell_type": "code",
   "execution_count": 341,
   "metadata": {
    "collapsed": false
   },
   "outputs": [],
   "source": [
    "X = HCDF[['hour','day','char_length','word_length']]\n",
    "y = HCDF['retweet_count']\n",
    "\n",
    "X_train, X_test, y_train, y_test = train_test_split(X, y, test_size=0.33, random_state=42)\n",
    "rng = np.random.RandomState(1)\n",
    "# Fit regression model\n",
    "regr_1 = DecisionTreeRegressor(max_depth=4)\n",
    "\n",
    "regr_2 = AdaBoostRegressor(DecisionTreeRegressor(max_depth=4),\n",
    "                          n_estimators=300, random_state=rng)\n",
    "\n",
    "regr_1.fit(X_train, y_train)\n",
    "regr_2.fit(X_train, y_train)\n",
    "\n",
    "# Predict\n",
    "y_1 = regr_1.predict(X_test)\n",
    "y_2 = regr_2.predict(X_test)\n",
    "\n",
    "#print regr.score(X_test,y_test)"
   ]
  },
  {
   "cell_type": "code",
   "execution_count": 343,
   "metadata": {
    "collapsed": false
   },
   "outputs": [
    {
     "name": "stdout",
     "output_type": "stream",
     "text": [
      "0.0090506876094\n",
      "-0.101064820813\n"
     ]
    }
   ],
   "source": [
    "print regr_1.score(X_test,y_test)\n",
    "print regr_2.score(X_test, y_test)"
   ]
  },
  {
   "cell_type": "code",
   "execution_count": 399,
   "metadata": {
    "collapsed": false
   },
   "outputs": [
    {
     "data": {
      "text/html": [
       "<div>\n",
       "<table border=\"1\" class=\"dataframe\">\n",
       "  <thead>\n",
       "    <tr style=\"text-align: right;\">\n",
       "      <th></th>\n",
       "      <th>text</th>\n",
       "      <th>favorite_count</th>\n",
       "    </tr>\n",
       "  </thead>\n",
       "  <tbody>\n",
       "    <tr>\n",
       "      <th>310</th>\n",
       "      <td>Delete your account. https://t.co/Oa92sncRQY</td>\n",
       "      <td>618368</td>\n",
       "    </tr>\n",
       "    <tr>\n",
       "      <th>180</th>\n",
       "      <td>Hi. https://t.co/11Fyyf5IQm</td>\n",
       "      <td>79865</td>\n",
       "    </tr>\n",
       "    <tr>\n",
       "      <th>356</th>\n",
       "      <td>To every little girl who dreams big: Yes, you ...</td>\n",
       "      <td>73657</td>\n",
       "    </tr>\n",
       "    <tr>\n",
       "      <th>85</th>\n",
       "      <td>You*\\n\\n*offer not valid for Muslims, women, L...</td>\n",
       "      <td>42931</td>\n",
       "    </tr>\n",
       "    <tr>\n",
       "      <th>1729</th>\n",
       "      <td>#GOPdebate https://t.co/SGW200luN8</td>\n",
       "      <td>39226</td>\n",
       "    </tr>\n",
       "    <tr>\n",
       "      <th>1723</th>\n",
       "      <td>Marriage equality is the law of the land. Deal...</td>\n",
       "      <td>38378</td>\n",
       "    </tr>\n",
       "    <tr>\n",
       "      <th>262</th>\n",
       "      <td>Woke up to hear the devastating news from FL. ...</td>\n",
       "      <td>35833</td>\n",
       "    </tr>\n",
       "    <tr>\n",
       "      <th>349</th>\n",
       "      <td>For the first time in our history, a woman wil...</td>\n",
       "      <td>34700</td>\n",
       "    </tr>\n",
       "    <tr>\n",
       "      <th>158</th>\n",
       "      <td>What a joy being with our new grandson, Aidan....</td>\n",
       "      <td>33851</td>\n",
       "    </tr>\n",
       "    <tr>\n",
       "      <th>1722</th>\n",
       "      <td>How many more of these do we have to sit throu...</td>\n",
       "      <td>30822</td>\n",
       "    </tr>\n",
       "  </tbody>\n",
       "</table>\n",
       "</div>"
      ],
      "text/plain": [
       "                                                   text  favorite_count\n",
       "310        Delete your account. https://t.co/Oa92sncRQY          618368\n",
       "180                         Hi. https://t.co/11Fyyf5IQm           79865\n",
       "356   To every little girl who dreams big: Yes, you ...           73657\n",
       "85    You*\\n\\n*offer not valid for Muslims, women, L...           42931\n",
       "1729                 #GOPdebate https://t.co/SGW200luN8           39226\n",
       "1723  Marriage equality is the law of the land. Deal...           38378\n",
       "262   Woke up to hear the devastating news from FL. ...           35833\n",
       "349   For the first time in our history, a woman wil...           34700\n",
       "158   What a joy being with our new grandson, Aidan....           33851\n",
       "1722  How many more of these do we have to sit throu...           30822"
      ]
     },
     "execution_count": 399,
     "metadata": {},
     "output_type": "execute_result"
    }
   ],
   "source": [
    "HC.sort_values('favorite_count',ascending=False)[['text','favorite_count']].head(10)"
   ]
  },
  {
   "cell_type": "code",
   "execution_count": 402,
   "metadata": {
    "collapsed": false
   },
   "outputs": [
    {
     "data": {
      "text/plain": [
       "u'For the first time in our history, a woman will be a major party\\u2019s nominee for President of the United States. https://t.co/4iLojpuPj8'"
      ]
     },
     "execution_count": 402,
     "metadata": {},
     "output_type": "execute_result"
    }
   ],
   "source": [
    "HC.iloc[349]['text']"
   ]
  },
  {
   "cell_type": "code",
   "execution_count": 403,
   "metadata": {
    "collapsed": false
   },
   "outputs": [
    {
     "data": {
      "text/html": [
       "<div>\n",
       "<table border=\"1\" class=\"dataframe\">\n",
       "  <thead>\n",
       "    <tr style=\"text-align: right;\">\n",
       "      <th></th>\n",
       "      <th>text</th>\n",
       "      <th>favorite_count</th>\n",
       "    </tr>\n",
       "  </thead>\n",
       "  <tbody>\n",
       "    <tr>\n",
       "      <th>171</th>\n",
       "      <td>How long did it take your staff of 823 people ...</td>\n",
       "      <td>285060</td>\n",
       "    </tr>\n",
       "    <tr>\n",
       "      <th>579</th>\n",
       "      <td>Happy #CincoDeMayo! The best taco bowls are ma...</td>\n",
       "      <td>112958</td>\n",
       "    </tr>\n",
       "    <tr>\n",
       "      <th>140</th>\n",
       "      <td>Is President Obama going to finally mention th...</td>\n",
       "      <td>90429</td>\n",
       "    </tr>\n",
       "    <tr>\n",
       "      <th>173</th>\n",
       "      <td>Obama just endorsed Crooked Hillary. He wants ...</td>\n",
       "      <td>82745</td>\n",
       "    </tr>\n",
       "    <tr>\n",
       "      <th>142</th>\n",
       "      <td>Horrific incident in FL. Praying for all the v...</td>\n",
       "      <td>79016</td>\n",
       "    </tr>\n",
       "    <tr>\n",
       "      <th>141</th>\n",
       "      <td>Appreciate the congrats for being right on rad...</td>\n",
       "      <td>73746</td>\n",
       "    </tr>\n",
       "    <tr>\n",
       "      <th>137</th>\n",
       "      <td>What has happened in Orlando is just the begin...</td>\n",
       "      <td>73377</td>\n",
       "    </tr>\n",
       "    <tr>\n",
       "      <th>121</th>\n",
       "      <td>Thank you to the LGBT community! I will fight ...</td>\n",
       "      <td>51728</td>\n",
       "    </tr>\n",
       "    <tr>\n",
       "      <th>122</th>\n",
       "      <td>AMERICA FIRST!</td>\n",
       "      <td>48666</td>\n",
       "    </tr>\n",
       "    <tr>\n",
       "      <th>114</th>\n",
       "      <td>I will be meeting with the NRA, who has endors...</td>\n",
       "      <td>47770</td>\n",
       "    </tr>\n",
       "  </tbody>\n",
       "</table>\n",
       "</div>"
      ],
      "text/plain": [
       "                                                  text  favorite_count\n",
       "171  How long did it take your staff of 823 people ...          285060\n",
       "579  Happy #CincoDeMayo! The best taco bowls are ma...          112958\n",
       "140  Is President Obama going to finally mention th...           90429\n",
       "173  Obama just endorsed Crooked Hillary. He wants ...           82745\n",
       "142  Horrific incident in FL. Praying for all the v...           79016\n",
       "141  Appreciate the congrats for being right on rad...           73746\n",
       "137  What has happened in Orlando is just the begin...           73377\n",
       "121  Thank you to the LGBT community! I will fight ...           51728\n",
       "122                                     AMERICA FIRST!           48666\n",
       "114  I will be meeting with the NRA, who has endors...           47770"
      ]
     },
     "execution_count": 403,
     "metadata": {},
     "output_type": "execute_result"
    }
   ],
   "source": [
    "DT.sort_values('favorite_count',ascending=False)[['text','favorite_count']].head(10)"
   ]
  },
  {
   "cell_type": "code",
   "execution_count": 409,
   "metadata": {
    "collapsed": false
   },
   "outputs": [
    {
     "data": {
      "text/plain": [
       "u'I will be meeting with the NRA, who has endorsed me, about not allowing people on the terrorist watch list, or the no fly list, to buy guns.'"
      ]
     },
     "execution_count": 409,
     "metadata": {},
     "output_type": "execute_result"
    }
   ],
   "source": [
    "DT.iloc[114]['text']"
   ]
  },
  {
   "cell_type": "code",
   "execution_count": 346,
   "metadata": {
    "collapsed": true
   },
   "outputs": [],
   "source": [
    "mexico = r'[mM]ex|[lL]atin'\n",
    "islam = r'[Ii]slam|[Mm]uslim'"
   ]
  },
  {
   "cell_type": "code",
   "execution_count": 436,
   "metadata": {
    "collapsed": false
   },
   "outputs": [],
   "source": [
    "job=[]\n",
    "for s in HC['text']:\n",
    "    if re.search('job|employment',s):\n",
    "        job.append(1)\n",
    "    else:\n",
    "        job.append(0)\n"
   ]
  },
  {
   "cell_type": "code",
   "execution_count": 437,
   "metadata": {
    "collapsed": false
   },
   "outputs": [
    {
     "name": "stdout",
     "output_type": "stream",
     "text": [
      "(3224, 10)\n",
      "3224\n"
     ]
    }
   ],
   "source": [
    "print HC.shape\n",
    "print len(job)"
   ]
  },
  {
   "cell_type": "code",
   "execution_count": 438,
   "metadata": {
    "collapsed": false
   },
   "outputs": [],
   "source": [
    "HCissues=pd.DataFrame()\n",
    "HCissues['date']=HC['created_at']\n",
    "HCissues['jobs']=job"
   ]
  },
  {
   "cell_type": "code",
   "execution_count": 441,
   "metadata": {
    "collapsed": false
   },
   "outputs": [
    {
     "data": {
      "text/plain": [
       "<matplotlib.axes._subplots.AxesSubplot at 0x11d7a65d0>"
      ]
     },
     "execution_count": 441,
     "metadata": {},
     "output_type": "execute_result"
    },
    {
     "data": {
      "image/png": "[encoded data removed]",
      "text/plain": [
       "<matplotlib.figure.Figure at 0x12829be10>"
      ]
     },
     "metadata": {},
     "output_type": "display_data"
    }
   ],
   "source": [
    "HCissues.plot()"
   ]
  },
  {
   "cell_type": "code",
   "execution_count": 356,
   "metadata": {
    "collapsed": false
   },
   "outputs": [],
   "source": [
    "def n_grams_topic(tweets, n=1,topic=''):\n",
    "    \n",
    "    bigram_vectorizer = CountVectorizer(ngram_range=(n,n),token_pattern=r'\\b\\w+\\b', min_df=1)\n",
    "    X_2 = bigram_vectorizer.fit_transform(tweets)\n",
    "    freqs = [(word, X_2.getcol(idx).sum()) for word, idx in bigram_vectorizer.vocabulary_.items() if re.search(topic,word)]\n",
    "    #sort from largest to smallest\n",
    "    ngramlist = sorted (freqs, key = lambda x: -x[1])\n",
    "    return ngramlist[:30]"
   ]
  },
  {
   "cell_type": "code",
   "execution_count": 362,
   "metadata": {
    "collapsed": false
   },
   "outputs": [
    {
     "data": {
      "text/plain": [
       "[(u'es hoy env a latinos al 47246 para que hillary', 1),\n",
       " (u'as immigrants as latinos to really put our imprint on', 1),\n",
       " (u'intensifying his bigoted attacks on judge curiel s latino heritage', 1),\n",
       " (u'be disqualified from his job because of his mexican heritage', 1),\n",
       " (u'oppounity as immigrants as latinos to really put our imprint', 1),\n",
       " (u'comments about a latino judge are so disgusting even other', 1),\n",
       " (u'latino judge are so disgusting even other republicans are offended', 1),\n",
       " (u'a great oppounity as immigrants as latinos to really put', 1),\n",
       " (u'latinos to really put our imprint on the election hill', 1),\n",
       " (u'is campaigning on immigration reform amp suppoing latinos fine but', 1),\n",
       " (u'pagar la renta y las familias latinas y afroamericanas son', 1),\n",
       " (u'trump empez su campa a diciendo que los mexicanos son', 1),\n",
       " (u'mexicanos son violadores y traen drogas y crimen no se', 1),\n",
       " (u'amp suppoing latinos fine but he should explain his spotty', 1),\n",
       " (u'you re black or latino that has to end demtownhall', 1),\n",
       " (u'latinos fine but he should explain his spotty record amp', 1),\n",
       " (u's latino heritage and belittling his staff in the process', 1),\n",
       " (u'muslims jewish black latino women immigrants divisive rhetoric is wrong',\n",
       "  1),\n",
       " (u'latino families lost homes jobs and savings trump tried to', 1),\n",
       " (u'a latino judge are so disgusting even other republicans are', 1)]"
      ]
     },
     "execution_count": 362,
     "metadata": {},
     "output_type": "execute_result"
    }
   ],
   "source": [
    "HC_2_grams_islam = n_grams_topic(HCtweets, n=10,topic=mexico)\n",
    "HC_2_grams_islam[0:20]"
   ]
  },
  {
   "cell_type": "code",
   "execution_count": 361,
   "metadata": {
    "collapsed": false
   },
   "outputs": [
    {
     "data": {
      "text/plain": [
       "[(u'america 2 000 being eliminated for move to mexico via', 1),\n",
       " (u'to mexico now losing ford and many others kasich is', 1),\n",
       " (u'trump on ford carrier shipping jobs to mexico i m', 1),\n",
       " (u'new mexico amazing crowd now in l a big rally', 1),\n",
       " (u'we must build a great wall between mexico and the', 1),\n",
       " (u'illegal immigrant children non mexicans surge across border at record', 1),\n",
       " (u'must build a great wall between mexico and the united', 1),\n",
       " (u'the protesters in new mexico were thugs who were flying', 1),\n",
       " (u'mexico etc no more if i win we will bring', 1),\n",
       " (u'and china on trade and mexico at the border bad', 1),\n",
       " (u'to mexico i m the only one who understands what', 1),\n",
       " (u'2 000 being eliminated for move to mexico via haford', 1),\n",
       " (u'who were flying the mexican flag the rally inside was', 1),\n",
       " (u'lost 400 000 since 2000 going to mexico etc no', 1),\n",
       " (u'isis and china on trade and mexico at the border', 1),\n",
       " (u'a wall a great wall and mexico is going to', 1),\n",
       " (u'donald trump no we re not going to hate latinos', 1),\n",
       " (u'mexico amazing crowd now in l a big rally in', 1),\n",
       " (u're not going to hate latinos we re not going', 1),\n",
       " (u'protesters burning the american flags and proudly waving mexican flags',\n",
       "  1)]"
      ]
     },
     "execution_count": 361,
     "metadata": {},
     "output_type": "execute_result"
    }
   ],
   "source": [
    "DT_2_grams_islam = n_grams_topic(DTtweets, n=10,topic=mexico)\n",
    "DT_2_grams_islam[0:20]"
   ]
  },
  {
   "cell_type": "code",
   "execution_count": 381,
   "metadata": {
    "collapsed": false
   },
   "outputs": [
    {
     "data": {
      "text/plain": [
       "[(u'trump', 514),\n",
       " (u'great', 492),\n",
       " (u'thank', 489),\n",
       " (u'trump2016', 451),\n",
       " (u't', 328),\n",
       " (u's', 320),\n",
       " (u'makeamericagreatagain', 306),\n",
       " (u'amp', 296),\n",
       " (u'just', 244),\n",
       " (u'america', 241),\n",
       " (u'hillary', 227),\n",
       " (u'new', 222),\n",
       " (u'cruz', 222),\n",
       " (u'people', 215),\n",
       " (u'make', 165),\n",
       " (u'big', 156),\n",
       " (u'poll', 151),\n",
       " (u'ted', 138),\n",
       " (u'like', 130),\n",
       " (u'vote', 125),\n",
       " (u'president', 120),\n",
       " (u'tonight', 111),\n",
       " (u'donald', 110),\n",
       " (u'time', 104),\n",
       " (u'iowa', 100),\n",
       " (u'clinton', 99),\n",
       " (u'rubio', 98),\n",
       " (u'm', 94),\n",
       " (u'said', 94),\n",
       " (u'today', 90)]"
      ]
     },
     "execution_count": 381,
     "metadata": {},
     "output_type": "execute_result"
    }
   ],
   "source": [
    "DT_1grams_sw = n_grams_sw(DTtweets, n=1)\n",
    "DT_1grams_sw"
   ]
  },
  {
   "cell_type": "code",
   "execution_count": 380,
   "metadata": {
    "collapsed": false
   },
   "outputs": [
    {
     "data": {
      "text/plain": [
       "[(u's', 1004),\n",
       " (u'hillary', 790),\n",
       " (u't', 410),\n",
       " (u'trump', 311),\n",
       " (u'president', 258),\n",
       " (u'need', 231),\n",
       " (u'h', 203),\n",
       " (u'demdebate', 180),\n",
       " (u'women', 179),\n",
       " (u'make', 174),\n",
       " (u'let', 164),\n",
       " (u'families', 161),\n",
       " (u'america', 159),\n",
       " (u'just', 143),\n",
       " (u'today', 142),\n",
       " (u'donald', 139),\n",
       " (u'people', 134),\n",
       " (u'imwithher', 132),\n",
       " (u'americans', 129),\n",
       " (u'new', 124),\n",
       " (u've', 122),\n",
       " (u'amp', 117),\n",
       " (u'rights', 112),\n",
       " (u'gopdebate', 109),\n",
       " (u'vote', 107),\n",
       " (u'care', 103),\n",
       " (u'country', 98),\n",
       " (u'health', 98),\n",
       " (u'gun', 96),\n",
       " (u'time', 95)]"
      ]
     },
     "execution_count": 380,
     "metadata": {},
     "output_type": "execute_result"
    }
   ],
   "source": [
    "HC_1grams_sw = n_grams_sw(HCtweets, n=1)\n",
    "HC_1grams_sw"
   ]
  },
  {
   "cell_type": "code",
   "execution_count": 153,
   "metadata": {
    "collapsed": false
   },
   "outputs": [
    {
     "data": {
      "text/plain": [
       "[(u'donald trump', 133),\n",
       " (u'hillary s', 92),\n",
       " (u'let s', 81),\n",
       " (u'don t', 64),\n",
       " (u'trump s', 60),\n",
       " (u'isn t', 60),\n",
       " (u'hillary clinton', 55),\n",
       " (u'health care', 54),\n",
       " (u'women s', 46),\n",
       " (u'gun violence', 43),\n",
       " (u's time', 38),\n",
       " (u've got', 37),\n",
       " (u'new hampshire', 36),\n",
       " (u'white house', 36),\n",
       " (u'shouldn t', 33),\n",
       " (u'make sure', 31),\n",
       " (u'supreme cou', 31),\n",
       " (u'doesn t', 30),\n",
       " (u'new york', 30),\n",
       " (u't let', 29)]"
      ]
     },
     "execution_count": 153,
     "metadata": {},
     "output_type": "execute_result"
    }
   ],
   "source": [
    "HC_2grams_sw = n_grams_sw(HCtweets, n=2)\n",
    "HC_2grams_sw[0:20]"
   ]
  },
  {
   "cell_type": "code",
   "execution_count": 154,
   "metadata": {
    "collapsed": false
   },
   "outputs": [
    {
     "data": {
      "text/plain": [
       "[(u'it s', 192),\n",
       " (u'we need', 166),\n",
       " (u'we can', 155),\n",
       " (u'if you', 139),\n",
       " (u'donald trump', 133),\n",
       " (u'can t', 126),\n",
       " (u'of the', 115),\n",
       " (u'need to', 109),\n",
       " (u'on the', 106),\n",
       " (u'in the', 106),\n",
       " (u'you re', 105),\n",
       " (u'to be', 102),\n",
       " (u'we re', 101),\n",
       " (u'to the', 92),\n",
       " (u'have to', 87),\n",
       " (u'hillary s', 86),\n",
       " (u'let s', 81),\n",
       " (u'to make', 77),\n",
       " (u'we ve', 74),\n",
       " (u'i m', 71)]"
      ]
     },
     "execution_count": 154,
     "metadata": {},
     "output_type": "execute_result"
    }
   ],
   "source": [
    "HC_2grams = n_grams(HCtweets, n=2)\n",
    "HC_2grams[0:20]"
   ]
  },
  {
   "cell_type": "code",
   "execution_count": 155,
   "metadata": {
    "collapsed": false
   },
   "outputs": [
    {
     "data": {
      "text/plain": [
       "[(u'we need to', 83),\n",
       " (u'we can t', 81),\n",
       " (u'if you re', 48),\n",
       " (u'we have to', 40),\n",
       " (u'we need a', 40),\n",
       " (u'to 47246 to', 37),\n",
       " (u'it s time', 36),\n",
       " (u'the white house', 36),\n",
       " (u'a president who', 34),\n",
       " (u'if you agree', 31),\n",
       " (u'we ve got', 27),\n",
       " (u'need a president', 27),\n",
       " (u'donald trump is', 27),\n",
       " (u'can t afford', 25),\n",
       " (u's time to', 24),\n",
       " (u'you re with', 24),\n",
       " (u'here s what', 23),\n",
       " (u've got to', 23),\n",
       " (u'commander in chief', 22),\n",
       " (u'it s not', 21)]"
      ]
     },
     "execution_count": 155,
     "metadata": {},
     "output_type": "execute_result"
    }
   ],
   "source": [
    "HC_3grams = n_grams(HCtweets, n=3)\n",
    "HC_3grams[0:20]"
   ]
  },
  {
   "cell_type": "code",
   "execution_count": 156,
   "metadata": {
    "collapsed": false
   },
   "outputs": [
    {
     "data": {
      "text/plain": [
       "[(u'need a president who', 25),\n",
       " (u'we can t afford', 24),\n",
       " (u'it s time to', 24),\n",
       " (u'we ve got to', 23),\n",
       " (u'we need a president', 23),\n",
       " (u'we can t let', 21),\n",
       " (u'the progress we ve', 19),\n",
       " (u'we re going to', 19),\n",
       " (u'progress we ve made', 19),\n",
       " (u'a president who will', 18),\n",
       " (u'in the white house', 14),\n",
       " (u'to tell hillary you', 13),\n",
       " (u'you re with hillary', 13),\n",
       " (u'47246 to find your', 12),\n",
       " (u'if you re with', 12),\n",
       " (u'the affordable care act', 12),\n",
       " (u'to 47246 to find', 12),\n",
       " (u'to the white house', 11),\n",
       " (u'tell hillary you re', 11),\n",
       " (u'your name if you', 11)]"
      ]
     },
     "execution_count": 156,
     "metadata": {},
     "output_type": "execute_result"
    }
   ],
   "source": [
    "HC_4grams = n_grams(HCtweets, n=4)\n",
    "HC_4grams[0:20]"
   ]
  },
  {
   "cell_type": "code",
   "execution_count": 157,
   "metadata": {
    "collapsed": false
   },
   "outputs": [
    {
     "data": {
      "text/plain": [
       "[(u'we need a president who', 21),\n",
       " (u'the progress we ve made', 19),\n",
       " (u'need a president who will', 15),\n",
       " (u'to 47246 to find your', 12),\n",
       " (u'to tell hillary you re', 11),\n",
       " (u'47246 to tell hillary you', 11),\n",
       " (u'add your name if you', 11),\n",
       " (u'to 47246 to tell hillary', 11),\n",
       " (u'to be commander in chief', 10),\n",
       " (u'if you re with hillary', 9),\n",
       " (u'your name if you agree', 9),\n",
       " (u'text where to 47246 to', 9),\n",
       " (u'on the progress we ve', 9),\n",
       " (u'where to 47246 to find', 9),\n",
       " (u'we can t afford a', 9),\n",
       " (u'to find your polling place', 9),\n",
       " (u'all the way to the', 9),\n",
       " (u'the way to the white', 9),\n",
       " (u'way to the white house', 9),\n",
       " (u'47246 to find your polling', 9)]"
      ]
     },
     "execution_count": 157,
     "metadata": {},
     "output_type": "execute_result"
    }
   ],
   "source": [
    "HC_5grams = n_grams(HCtweets, n=5)\n",
    "HC_5grams[0:20]"
   ]
  },
  {
   "cell_type": "code",
   "execution_count": 85,
   "metadata": {
    "collapsed": true
   },
   "outputs": [],
   "source": [
    "DT_bigrams = n_grams(DTtweets, n=2)"
   ]
  },
  {
   "cell_type": "code",
   "execution_count": 158,
   "metadata": {
    "collapsed": false
   },
   "outputs": [
    {
     "data": {
      "text/plain": [
       "[(u'makeamericagreatagain trump2016', 137),\n",
       " (u'make america', 122),\n",
       " (u'america great', 111),\n",
       " (u'ted cruz', 109),\n",
       " (u'donald trump', 84),\n",
       " (u'hillary clinton', 76),\n",
       " (u'crooked hillary', 74),\n",
       " (u'don t', 71),\n",
       " (u'new hampshire', 60),\n",
       " (u'south carolina', 59),\n",
       " (u'doesn t', 50),\n",
       " (u'u s', 50),\n",
       " (u'trump2016 makeamericagreatagain', 46),\n",
       " (u'new york', 42),\n",
       " (u'marco rubio', 40),\n",
       " (u'lyin ted', 37),\n",
       " (u'mr trump', 37),\n",
       " (u'didn t', 37),\n",
       " (u'beat hillary', 29),\n",
       " (u'won t', 28)]"
      ]
     },
     "execution_count": 158,
     "metadata": {},
     "output_type": "execute_result"
    }
   ],
   "source": [
    "DT_2grams_sw = n_grams_sw(DTtweets, n=2)\n",
    "DT_2grams_sw[0:20]"
   ]
  },
  {
   "cell_type": "code",
   "execution_count": 86,
   "metadata": {
    "collapsed": false,
    "scrolled": false
   },
   "outputs": [
    {
     "data": {
      "text/plain": [
       "[(u'thank you', 475),\n",
       " (u'will be', 271),\n",
       " (u'i will', 191),\n",
       " (u'of the', 177),\n",
       " (u'makeamericagreatagain trump2016', 137),\n",
       " (u'in the', 129),\n",
       " (u'make america', 122),\n",
       " (u'great again', 121),\n",
       " (u'i am', 116),\n",
       " (u'is a', 116),\n",
       " (u'america great', 111),\n",
       " (u'ted cruz', 109),\n",
       " (u'for the', 92),\n",
       " (u'donald trump', 84),\n",
       " (u'a great', 81),\n",
       " (u'hillary clinton', 76),\n",
       " (u'crooked hillary', 74),\n",
       " (u'you for', 74),\n",
       " (u'to be', 71),\n",
       " (u'don t', 71)]"
      ]
     },
     "execution_count": 86,
     "metadata": {},
     "output_type": "execute_result"
    }
   ],
   "source": [
    "DT_bigrams[0:20]"
   ]
  },
  {
   "cell_type": "code",
   "execution_count": 159,
   "metadata": {
    "collapsed": false
   },
   "outputs": [
    {
     "data": {
      "text/plain": [
       "[(u'make america great', 111),\n",
       " (u'i will be', 111),\n",
       " (u'america great again', 110),\n",
       " (u'thank you for', 73),\n",
       " (u'will be interviewed', 52),\n",
       " (u'be interviewed on', 39),\n",
       " (u'will be on', 34),\n",
       " (u'you for your', 33),\n",
       " (u'crooked hillary clinton', 32),\n",
       " (u'will make america', 28),\n",
       " (u'all of the', 26),\n",
       " (u'lyin ted cruz', 24),\n",
       " (u'thank you to', 23),\n",
       " (u'the u s', 23),\n",
       " (u'the people of', 22),\n",
       " (u'thank you america', 22),\n",
       " (u'thank you trump2016', 22),\n",
       " (u'one of the', 22),\n",
       " (u'we will make', 21),\n",
       " (u'in new hampshire', 20)]"
      ]
     },
     "execution_count": 159,
     "metadata": {},
     "output_type": "execute_result"
    }
   ],
   "source": [
    "DT_trigrams = n_grams(DTtweets, n=3)\n",
    "DT_trigrams[0:20]"
   ]
  },
  {
   "cell_type": "code",
   "execution_count": 160,
   "metadata": {
    "collapsed": false
   },
   "outputs": [
    {
     "data": {
      "text/plain": [
       "[(u'make america great again', 110),\n",
       " (u'will be interviewed on', 39),\n",
       " (u'i will be interviewed', 38),\n",
       " (u'thank you for your', 33),\n",
       " (u'i will be on', 24),\n",
       " (u'will make america great', 21),\n",
       " (u'we will make america', 20),\n",
       " (u'be interviewed on at', 19),\n",
       " (u'thank you for the', 18),\n",
       " (u'you for your suppo', 17),\n",
       " (u'will be interviewed by', 12),\n",
       " (u'i am the only', 12),\n",
       " (u'thank you america trump2016', 12),\n",
       " (u'self funding my campaign', 11),\n",
       " (u'to make america great', 11),\n",
       " (u'thank you makeamericagreatagain trump2016', 11),\n",
       " (u'interviewed on at 7', 10),\n",
       " (u'weak on illegal immigration', 10),\n",
       " (u'i will beat hillary', 10),\n",
       " (u'i will be in', 10)]"
      ]
     },
     "execution_count": 160,
     "metadata": {},
     "output_type": "execute_result"
    }
   ],
   "source": [
    "DT_quadgrams = n_grams(DTtweets, n=4)\n",
    "DT_quadgrams[0:20]"
   ]
  },
  {
   "cell_type": "code",
   "execution_count": 104,
   "metadata": {
    "collapsed": false
   },
   "outputs": [
    {
     "name": "stdout",
     "output_type": "stream",
     "text": [
      "We need a president who's fighting to raise incomes for all Americans, not one who tries to profit at their expense. \n",
      "We need a president who will unite leaders around the world to defeat ISIS, not one who insults and alienates them. \n",
      "We need a president who will take action on gun violence and stand with victims' families against the gun lobby.\n",
      "\n",
      "We need a president who will always put families above the gun lobby. #DemDebate\n",
      "\n",
      "We need a president who can bring people together.\n",
      "\n",
      "Hate and bigotry have no place in America.\n",
      "\n",
      "We need a president who doesn’t just rail against trade. We need a president who knows how to compete against the rest of the world and win.\n",
      "\"We need a president who will help break down all the barriers holding Americans back, not just some.\" -Hillary\n",
      "We need a president who will make comprehensive immigration reform a top priority and keep families together. \n",
      "We need a president who will provide leadership that’s strong, sma, and steady. The last thing we need are leaders who incite more fear.\n",
      "We need a president who can provide leadership that’s strong, sma, and steady. The last thing we need are leaders who incite more fear.\n",
      "Millions of families like Karla’s live in fear of depoation. We need a president who will fight to protect them. \n",
      "  \"We need a president who knows how to make government work.\" –  \n",
      "\n",
      "Agree? ➡️  \n",
      "We need a president who will tackle all the issues we face, from systemic racism to LGBT discrimination.\n",
      "\n",
      "Families need a president who will deliver results. We can’t wait for promises that can’t be kept. #DemDebate\n",
      "\n",
      "More proof that women need a president who will stop attacks on women's health in their tracks. \n",
      "We need a president who will fight for all Americans, not just those at the top.\n",
      "\n",
      "We need a president who will make quality higher education a reality for every American. #DemDebate \n",
      "We need a president who will always, always put American families over the gun lobby. #DemDebate\n",
      "\n",
      "\"We need a president who can do all aspects of the job...I'm ready to take it on.\" —Hillary #DemDebate\n",
      "\"Young people need a president who will stand up to inaction [on guns]...that person is Hillary.\" - \n",
      "We need a president who will stand up to the gun lobby. Add your name if you agree: \n",
      "Americans need a president who has what it takes to get the job done. \n",
      "We need a president who can take on Republicans and get the job done. \n",
      "Whether she's working with world leaders or working across the aisle, we need a president who gets things done: \n"
     ]
    }
   ],
   "source": [
    "for t in HCtweets:\n",
    "    if 'need a president who' in t:\n",
    "        print t"
   ]
  },
  {
   "cell_type": "code",
   "execution_count": 110,
   "metadata": {
    "collapsed": false
   },
   "outputs": [
    {
     "name": "stdout",
     "output_type": "stream",
     "text": [
      "Remember, I am the only candidate who is self-funding. While I am given little credit for this by the voters, I am not bought like others!\n",
      "Remember, I am the only one who is self-funding my campaign. All of the other candidates are bought and paid for by special interests!\n",
      "It was great being in Michigan. Remember, I am the only presidential candidate who will bring jobs back to the U.S.and protect car industry!\n",
      "For all of today's voters please remember that I am the only candidate that is self funding my campaign, I am not bought and paid for!\n",
      "I am the only one who can beat Hillary Clinton. I am not a Mitt Romney, who doesn't know how to win. Hillary wants no pa of \"Trump\"\n",
      "I am the only Republican who will get large numbers of Dems and Indies (crossover). I will also get states that no other Republican can get.\n",
      "I am the only candidate (in many years) who is self-funding his campaign. Lobbyists and $ interests totally control all other candidates!\n",
      "Remember, Cruz and Bush gave us Robes who upheld #ObamaCare twice! I am the only one who will #MAKEAMERICAGREATAGAIN!\n",
      "How can  beat Hillary Clinton- if he can't beat anyone else on the #GOPDebate stage with $150M? I am the only one who can!\n",
      "I am the only one who can fix this. Very sad. Will not happen under my watch! #MakeAmericaGreatAgain \n",
      "\n",
      "Yesterday in Iowa was amazing - two speeches in front of two great sold out crowds. They love that I am the only candidate self-funding!\n"
     ]
    }
   ],
   "source": [
    "for t in DTtweets:\n",
    "    if 'I am the only' in t:\n",
    "        print t"
   ]
  },
  {
   "cell_type": "code",
   "execution_count": 111,
   "metadata": {
    "collapsed": false
   },
   "outputs": [
    {
     "name": "stdout",
     "output_type": "stream",
     "text": [
      "Ohio is losing jobs to Mexico, now losing Ford (and many others). Kasich is weak on illegal immigration. We need strong borders now!\n",
      "Rubio is weak on illegal immigration, with the worst voting record in the U.S. Senate in many years. He will never MAKE AMERICA GREAT AGAIN!\n",
      "Ted Cruz only talks tough on immigration now because he did so badly in S.C. He is in favor of amnesty and weak on illegal immigration.\n",
      "Remember that Marco Rubio is very weak on illegal immigration. South Carolina needs strength as illegals and Syrians pour in. Don't allow it\n",
      "\"  is really staing to campaign hard for marcorubio. #fairandbalancedmyass\"  He is weak on illegal immigration!\n",
      "Jeb Bush is desperate - strongly in favor of #CommonCore and very weak on illegal immigration.\n",
      "Hillary Clinton is weak on illegal immigration, among many other things. She is strong on corruption - corruption is what she's best at!\n",
      ". is weak on illegal immigration &amp; totally incompetent as a manager and leader - no strength or stamina to be #POTUS!\n"
     ]
    }
   ],
   "source": [
    "#weak on illegal immigration\n",
    "for t in DTtweets:\n",
    "    if 'weak on illegal immigration' in t:\n",
    "        print t"
   ]
  },
  {
   "cell_type": "code",
   "execution_count": 383,
   "metadata": {
    "collapsed": false
   },
   "outputs": [
    {
     "data": {
      "text/plain": [
       "5"
      ]
     },
     "execution_count": 383,
     "metadata": {},
     "output_type": "execute_result"
    }
   ],
   "source": [
    "sum(1 for t in HCtweets if 'bad' in t)"
   ]
  },
  {
   "cell_type": "code",
   "execution_count": 386,
   "metadata": {
    "collapsed": false
   },
   "outputs": [
    {
     "data": {
      "text/plain": [
       "37"
      ]
     },
     "execution_count": 386,
     "metadata": {},
     "output_type": "execute_result"
    }
   ],
   "source": [
    "sum(1 for t in HCtweets if 'good' in t)"
   ]
  },
  {
   "cell_type": "code",
   "execution_count": 384,
   "metadata": {
    "collapsed": false
   },
   "outputs": [
    {
     "data": {
      "text/plain": [
       "79"
      ]
     },
     "execution_count": 384,
     "metadata": {},
     "output_type": "execute_result"
    }
   ],
   "source": [
    "sum(1 for t in DTtweets if 'bad' in t)"
   ]
  },
  {
   "cell_type": "code",
   "execution_count": 385,
   "metadata": {
    "collapsed": false
   },
   "outputs": [
    {
     "data": {
      "text/plain": [
       "60"
      ]
     },
     "execution_count": 385,
     "metadata": {},
     "output_type": "execute_result"
    }
   ],
   "source": [
    "sum(1 for t in DTtweets if 'good' in t)"
   ]
  },
  {
   "cell_type": "code",
   "execution_count": 387,
   "metadata": {
    "collapsed": false
   },
   "outputs": [
    {
     "data": {
      "text/plain": [
       "265"
      ]
     },
     "execution_count": 387,
     "metadata": {},
     "output_type": "execute_result"
    }
   ],
   "source": [
    "sum(1 for t in DTtweets if 'great' in t)"
   ]
  },
  {
   "cell_type": "code",
   "execution_count": 388,
   "metadata": {
    "collapsed": false
   },
   "outputs": [
    {
     "data": {
      "text/plain": [
       "48"
      ]
     },
     "execution_count": 388,
     "metadata": {},
     "output_type": "execute_result"
    }
   ],
   "source": [
    "sum(1 for t in HCtweets if 'great' in t)"
   ]
  },
  {
   "cell_type": "code",
   "execution_count": 417,
   "metadata": {
    "collapsed": false
   },
   "outputs": [
    {
     "ename": "KeyError",
     "evalue": "'[None None None ..., None None None] not in index'",
     "output_type": "error",
     "traceback": [
      "\u001b[0;31m---------------------------------------------------------------------------\u001b[0m",
      "\u001b[0;31mKeyError\u001b[0m                                  Traceback (most recent call last)",
      "\u001b[0;32m<ipython-input-417-69e1087e922f>\u001b[0m in \u001b[0;36m<module>\u001b[0;34m()\u001b[0m\n\u001b[0;32m----> 1\u001b[0;31m \u001b[0mHC\u001b[0m\u001b[0;34m[\u001b[0m\u001b[0;34m[\u001b[0m\u001b[0mre\u001b[0m\u001b[0;34m.\u001b[0m\u001b[0msearch\u001b[0m\u001b[0;34m(\u001b[0m\u001b[0;34mr'[Mm]usl|[iI]slam'\u001b[0m\u001b[0;34m,\u001b[0m \u001b[0mx\u001b[0m\u001b[0;34m)\u001b[0m \u001b[0;32mfor\u001b[0m \u001b[0mx\u001b[0m \u001b[0;32min\u001b[0m \u001b[0mHC\u001b[0m\u001b[0;34m[\u001b[0m\u001b[0;34m'text'\u001b[0m\u001b[0;34m]\u001b[0m\u001b[0;34m]\u001b[0m\u001b[0;34m]\u001b[0m\u001b[0;34m\u001b[0m\u001b[0m\n\u001b[0m",
      "\u001b[0;32m/usr/local/lib/python2.7/site-packages/pandas/core/frame.pyc\u001b[0m in \u001b[0;36m__getitem__\u001b[0;34m(self, key)\u001b[0m\n\u001b[1;32m   1984\u001b[0m         \u001b[0;32mif\u001b[0m \u001b[0misinstance\u001b[0m\u001b[0;34m(\u001b[0m\u001b[0mkey\u001b[0m\u001b[0;34m,\u001b[0m \u001b[0;34m(\u001b[0m\u001b[0mSeries\u001b[0m\u001b[0;34m,\u001b[0m \u001b[0mnp\u001b[0m\u001b[0;34m.\u001b[0m\u001b[0mndarray\u001b[0m\u001b[0;34m,\u001b[0m \u001b[0mIndex\u001b[0m\u001b[0;34m,\u001b[0m \u001b[0mlist\u001b[0m\u001b[0;34m)\u001b[0m\u001b[0;34m)\u001b[0m\u001b[0;34m:\u001b[0m\u001b[0;34m\u001b[0m\u001b[0m\n\u001b[1;32m   1985\u001b[0m             \u001b[0;31m# either boolean or fancy integer index\u001b[0m\u001b[0;34m\u001b[0m\u001b[0;34m\u001b[0m\u001b[0m\n\u001b[0;32m-> 1986\u001b[0;31m             \u001b[0;32mreturn\u001b[0m \u001b[0mself\u001b[0m\u001b[0;34m.\u001b[0m\u001b[0m_getitem_array\u001b[0m\u001b[0;34m(\u001b[0m\u001b[0mkey\u001b[0m\u001b[0;34m)\u001b[0m\u001b[0;34m\u001b[0m\u001b[0m\n\u001b[0m\u001b[1;32m   1987\u001b[0m         \u001b[0;32melif\u001b[0m \u001b[0misinstance\u001b[0m\u001b[0;34m(\u001b[0m\u001b[0mkey\u001b[0m\u001b[0;34m,\u001b[0m \u001b[0mDataFrame\u001b[0m\u001b[0;34m)\u001b[0m\u001b[0;34m:\u001b[0m\u001b[0;34m\u001b[0m\u001b[0m\n\u001b[1;32m   1988\u001b[0m             \u001b[0;32mreturn\u001b[0m \u001b[0mself\u001b[0m\u001b[0;34m.\u001b[0m\u001b[0m_getitem_frame\u001b[0m\u001b[0;34m(\u001b[0m\u001b[0mkey\u001b[0m\u001b[0;34m)\u001b[0m\u001b[0;34m\u001b[0m\u001b[0m\n",
      "\u001b[0;32m/usr/local/lib/python2.7/site-packages/pandas/core/frame.pyc\u001b[0m in \u001b[0;36m_getitem_array\u001b[0;34m(self, key)\u001b[0m\n\u001b[1;32m   2028\u001b[0m             \u001b[0;32mreturn\u001b[0m \u001b[0mself\u001b[0m\u001b[0;34m.\u001b[0m\u001b[0mtake\u001b[0m\u001b[0;34m(\u001b[0m\u001b[0mindexer\u001b[0m\u001b[0;34m,\u001b[0m \u001b[0maxis\u001b[0m\u001b[0;34m=\u001b[0m\u001b[0;36m0\u001b[0m\u001b[0;34m,\u001b[0m \u001b[0mconvert\u001b[0m\u001b[0;34m=\u001b[0m\u001b[0mFalse\u001b[0m\u001b[0;34m)\u001b[0m\u001b[0;34m\u001b[0m\u001b[0m\n\u001b[1;32m   2029\u001b[0m         \u001b[0;32melse\u001b[0m\u001b[0;34m:\u001b[0m\u001b[0;34m\u001b[0m\u001b[0m\n\u001b[0;32m-> 2030\u001b[0;31m             \u001b[0mindexer\u001b[0m \u001b[0;34m=\u001b[0m \u001b[0mself\u001b[0m\u001b[0;34m.\u001b[0m\u001b[0mix\u001b[0m\u001b[0;34m.\u001b[0m\u001b[0m_convert_to_indexer\u001b[0m\u001b[0;34m(\u001b[0m\u001b[0mkey\u001b[0m\u001b[0;34m,\u001b[0m \u001b[0maxis\u001b[0m\u001b[0;34m=\u001b[0m\u001b[0;36m1\u001b[0m\u001b[0;34m)\u001b[0m\u001b[0;34m\u001b[0m\u001b[0m\n\u001b[0m\u001b[1;32m   2031\u001b[0m             \u001b[0;32mreturn\u001b[0m \u001b[0mself\u001b[0m\u001b[0;34m.\u001b[0m\u001b[0mtake\u001b[0m\u001b[0;34m(\u001b[0m\u001b[0mindexer\u001b[0m\u001b[0;34m,\u001b[0m \u001b[0maxis\u001b[0m\u001b[0;34m=\u001b[0m\u001b[0;36m1\u001b[0m\u001b[0;34m,\u001b[0m \u001b[0mconvert\u001b[0m\u001b[0;34m=\u001b[0m\u001b[0mTrue\u001b[0m\u001b[0;34m)\u001b[0m\u001b[0;34m\u001b[0m\u001b[0m\n\u001b[1;32m   2032\u001b[0m \u001b[0;34m\u001b[0m\u001b[0m\n",
      "\u001b[0;32m/usr/local/lib/python2.7/site-packages/pandas/core/indexing.pyc\u001b[0m in \u001b[0;36m_convert_to_indexer\u001b[0;34m(self, obj, axis, is_setter)\u001b[0m\n\u001b[1;32m   1208\u001b[0m                 \u001b[0mmask\u001b[0m \u001b[0;34m=\u001b[0m \u001b[0mcheck\u001b[0m \u001b[0;34m==\u001b[0m \u001b[0;34m-\u001b[0m\u001b[0;36m1\u001b[0m\u001b[0;34m\u001b[0m\u001b[0m\n\u001b[1;32m   1209\u001b[0m                 \u001b[0;32mif\u001b[0m \u001b[0mmask\u001b[0m\u001b[0;34m.\u001b[0m\u001b[0many\u001b[0m\u001b[0;34m(\u001b[0m\u001b[0;34m)\u001b[0m\u001b[0;34m:\u001b[0m\u001b[0;34m\u001b[0m\u001b[0m\n\u001b[0;32m-> 1210\u001b[0;31m                     \u001b[0;32mraise\u001b[0m \u001b[0mKeyError\u001b[0m\u001b[0;34m(\u001b[0m\u001b[0;34m'%s not in index'\u001b[0m \u001b[0;34m%\u001b[0m \u001b[0mobjarr\u001b[0m\u001b[0;34m[\u001b[0m\u001b[0mmask\u001b[0m\u001b[0;34m]\u001b[0m\u001b[0;34m)\u001b[0m\u001b[0;34m\u001b[0m\u001b[0m\n\u001b[0m\u001b[1;32m   1211\u001b[0m \u001b[0;34m\u001b[0m\u001b[0m\n\u001b[1;32m   1212\u001b[0m                 \u001b[0;32mreturn\u001b[0m \u001b[0m_values_from_object\u001b[0m\u001b[0;34m(\u001b[0m\u001b[0mindexer\u001b[0m\u001b[0;34m)\u001b[0m\u001b[0;34m\u001b[0m\u001b[0m\n",
      "\u001b[0;31mKeyError\u001b[0m: '[None None None ..., None None None] not in index'"
     ]
    }
   ],
   "source": [
    "HC[r'[Mm]usl|[iI]slam', x) for x in HC['text']]]"
   ]
  },
  {
   "cell_type": "code",
   "execution_count": null,
   "metadata": {
    "collapsed": true
   },
   "outputs": [],
   "source": []
  }
 ],
 "metadata": {
  "kernelspec": {
   "display_name": "Python 2",
   "language": "python",
   "name": "python2"
  },
  "language_info": {
   "codemirror_mode": {
    "name": "ipython",
    "version": 2
   },
   "file_extension": ".py",
   "mimetype": "text/x-python",
   "name": "python",
   "nbconvert_exporter": "python",
   "pygments_lexer": "ipython2",
   "version": "2.7.10"
  }
 },
 "nbformat": 4,
 "nbformat_minor": 0
}
